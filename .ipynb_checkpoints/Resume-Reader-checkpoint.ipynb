{
 "cells": [
  {
   "cell_type": "markdown",
   "id": "70a5417b-8e39-44e8-a6ad-8355194bf89c",
   "metadata": {},
   "source": [
    "1. Get the Experience part text from the Image "
   ]
  },
  {
   "cell_type": "code",
   "execution_count": 145,
   "id": "1f96b884-fb9f-473e-97b1-499f1eea2bbd",
   "metadata": {},
   "outputs": [],
   "source": [
    "import os\n",
    "from pdf2image import convert_from_path\n",
    "import pytesseract"
   ]
  },
  {
   "cell_type": "markdown",
   "id": "8d5fec2a-ffe2-4b7d-afcb-8daade7ccaa1",
   "metadata": {},
   "source": [
    "List the Resume"
   ]
  },
  {
   "cell_type": "code",
   "execution_count": 146,
   "id": "8d3ac2a9-0a34-46cc-854d-79bee1c0df52",
   "metadata": {},
   "outputs": [
    {
     "data": {
      "text/plain": [
       "['datasets/resume/10554236.pdf',\n",
       " 'datasets/resume/10674770.pdf',\n",
       " 'datasets/resume/11163645.pdf',\n",
       " 'datasets/resume/11759079.pdf',\n",
       " 'datasets/resume/12065211.pdf',\n",
       " 'datasets/resume/12202337.pdf',\n",
       " 'datasets/resume/12338274.pdf',\n",
       " 'datasets/resume/12442909.pdf',\n",
       " 'datasets/resume/12780508.pdf',\n",
       " 'datasets/resume/12802330.pdf']"
      ]
     },
     "execution_count": 146,
     "metadata": {},
     "output_type": "execute_result"
    }
   ],
   "source": [
    "# Get the current directory\n",
    "current_directory = os.getcwd()\n",
    "\n",
    "# List directories in the current directory\n",
    "resumes = [\"datasets/resume/\" + d for d in os.listdir(current_directory + \"/datasets/resume\")]\n",
    "resumes = resumes[:10]\n",
    "resumes"
   ]
  },
  {
   "cell_type": "markdown",
   "id": "9a0e1ead-9316-4a02-839f-5413e853f1c8",
   "metadata": {},
   "source": [
    "## using OCR read the text "
   ]
  },
  {
   "cell_type": "code",
   "execution_count": 147,
   "id": "2fc56904-da10-4023-8f09-1ba912401639",
   "metadata": {},
   "outputs": [],
   "source": [
    "# Replace 'input_file.pdf' with the path to your PDF file\n",
    "resume_pages = []\n",
    "\n",
    "for pdf_file in resumes:\n",
    "    pages = convert_from_path(pdf_file)\n",
    "\n",
    "    resume_pages.append(pages)"
   ]
  },
  {
   "cell_type": "code",
   "execution_count": 148,
   "id": "01a785da-91a1-496f-b2e2-d3cbd40b3f3c",
   "metadata": {},
   "outputs": [],
   "source": [
    "def extract_text_from_image(image):\n",
    "    text = pytesseract.image_to_string(image)\n",
    "    return text"
   ]
  },
  {
   "cell_type": "code",
   "execution_count": 149,
   "id": "0f94f23d-004f-4ad3-aa2c-2f46a7ac0207",
   "metadata": {},
   "outputs": [],
   "source": [
    "resumes_text = []\n",
    "\n",
    "for pages in resume_pages:\n",
    "    extracted_text = \"\"\n",
    "    for page in pages:\n",
    "        text = extract_text_from_image(page)\n",
    "        extracted_text += text.replace(\"\\n\",' ') + \"  \" \n",
    "    resumes_text.append(extracted_text.strip())            "
   ]
  },
  {
   "cell_type": "code",
   "execution_count": 150,
   "id": "6726e096-9992-4406-9fc5-88a421eb8ec4",
   "metadata": {},
   "outputs": [
    {
     "data": {
      "text/plain": [
       "['ACCOUNTANT Summary  Financial Accountant specializing in financial planning, reporting and analysis within the Department of Defense.  Highlights ¢ Account reconciliations © Results-oriented © Accounting operations professional ¢ Financial reporting ¢ Analysis of financial systems © Critical thinking e ERP (Enterprise Resource Planning) software. e Excellent facilitator Accomplishments  Served on a tiger team which identified and resolved General Ledger postings in DEAMS totaling $360B in accounting adjustments. This allowed for the first successfill fiscal year-end close for 2012.  In collaboration with DFAS Europe, developed an automated tool that identified duplicate obligations. This tool allowed HQ USAFE to deobligate over $5M in duplicate obligations.  Experience Company Name July 2011 to November 2012 Accountant  City ,  State  Enterprise Resource Planning Office (ERO)  In this position as an Accountant assigned to the Defense Enterprise Accounting and Management System (DEAMS) ERO I was responsible for identifying and resolving issues affecting the DEAMS General Ledger.  I worked with teammates from the Procure to Pay, Orders to Cash, and Budget to Report areas to resolve daily challenges encountered with the deployment of DEAMS to additional customers and when system change requests were promoted to production.  I supported the testing of scripts, patches, and system change requests ensuring any anomalies were identified to the DEAMS Functional Management Office for action by the DEAMS Program Management Office and/or the System Integrator.  In addition, I served on a tiger team designed to identify and resolve General Ledger posting differences and supported the development of $360B in accounting adjustments allowing for the first successful fiscal year-end close in 2012.  These actions also allowed for the reconciliation and closure of fiscal year 2010 and 2011 accounting adjustments ensuring that all DEAMS fiscal year-end requirements were completed.  These actions were recognized as critical to the successful review report issued by the Air Force Operational Test and Evaluation Center (AFOTEC) resulting in the Air Force receiving the authority to continue with the deployment of DEAMS.  Company Name April 2010 to June 2011 Resource Advisor  City ,  State  In this position as Resource Advisor for the 1st Air Communications Operation Squadron (1 ACOS) I was responsible for providing financial advice and decision support to the Commander.  ¢ I was responsible for coordinating a $4.6M budget between four finding sources. ¢ I coordinated with USAFE Directorate of Intelligence (USAFE/A2), USAFE Directorate of Air and Space Operations (USAFE/A3),  USAFE Directorate of Communications (USAFE/A6) and the 435th Air Ground Operations Wing to ensure 1ACOS meets its mission requirements.  I consistently managed three separate timelines for providing budget/unfiinded requirements, providing documentation and various reports in the required format for each organization.  I discussed the outcome of the Group and Directorate budget meetings providing feedback the same day to the Flight Chief$ and CC any issue which affects 1 ACOS directly.  I monitored the Defense Travel System (DTS) daily and identify orders and authorizations needing approval and provided notification to the appropriate Reviewing Officials and Approvers.  Utilizing DTS and the General Accounting and Finance System I reviewed status reports to identify anomalies in obligations and have identified those orders which require correction prior to payment.  I provided Government Purchase Card (GPC) status reports the same day they are requested and in addition, communicated with the appropriate cardholders when changes were required to support their program.  | identified cardholder training requirements and monitored these requirements to ensure all required training was completed in support of this mission critical program.  I developed guidance for the GPC cardholders on procedures for requesting training for the squadron and in addition I provided answers to cardholder questions on unique or non-standard issues/concerns.   ¢ Assumed the role of the Billing Official during my final rating period and completed a self inspection of the program for the Management Control Program, zero findings. © During yearly audit by 700th CONS received zero findings.  Company Name July 2008 to April 2010 Staff Accountant City , State  ¢ Inmyy position as the Staff Accountant for HQ USAFE I was responsible for providing accounting and financial oversight and advice to customers throughout the Command in support of the USAFE Comptroller.  © Iwas responsible for performing ongoing analysis of financial programs to identify negative trends and weaknesses, ensured specific weaknesses were corrected, and determined whether systemic or repeat issues were identified and adequately addressed.  ¢ I was required to apply a comprehensive knowledge of analysis/reporting requirements and data produced to resolve these issues.  ¢ Incollaboration with DFAS Europe, developed an automated tool that identifies duplicate obligations by comparing records in the accounting system to the contracting system and provided notification to the finds manager for review and resolution.  © This tool eliminated hours of manual research and results allowed HQ USAFE to deobligate over $5M in duplicate obligations.  © Iwas responsible for establishing various performance metrics which ensured effective and efficient use of USAFE financial resources.  © TI supported the USAFE/FMA Financial metrics program by collaborating with DFAS Limestone in the development of\\'an automated tool that provided senior leaders with visibility to any USAFE unit that is not in compliance with the established rules and regulations related to the GPC.  ¢ This tool provides management reports that are used to populate the monthly metric charts which are briefed by the USAFE/FMA.  © This tool provided the capability for USAFE/FMA to collaborate with USAFE Contracting and develop/deploy joint guidance that supports the established Air Force Instruction mandating card suspension for card holders who are not in compliance with required reservation of funds in the entitlement system in support of the GPC.  © | identified and resolved a problem with five GPC accounts that had been rejecting during the automated interface process each month.  ¢ My research revealed that these accounts were rejecting for invalid paying station and required manual intervention by both Wing and DFAS personnel.  © This not only created rework, it delayed the payment of the invoices.  ¢ I partnered with DFAS Denver, corrected the records in the Access On-Line accounts eliminating the error condition.  ¢ | identified a method to deliver one-on-one training in support of the USAFE deployment of the Open Document Analysis (ODA) tool in FMSuite.  ¢ By utilizing Defense Connect Online I provided training remotely, virtually eliminating the need to expend funds on Temporary Duty (TDY) travel.  © The results of this training produced results that went well above expectations and were noted by the ODA Program Management Office.  Company Name January 2007 to July 2009 Chief} Reports Branch. Accounts Maintenance and Control City , State  ¢ Inmy position as Chief of the Reports Branch in Accounts Maintenance & Control (AM&C) I was responsible for ensuring the development and standardization of various managerial and system reports.  © Iwas responsible for the completeness and accuracy of weekly, monthly, quarterly, semi-annual, and annual reports.  e My branch monitored errors in the General Accounting and Finance System (GAFS/BQ) and ensured corrective actions were accomplished.  ¢ Talso ensured find balances were reconciled and reports were verified prior to release to base activities and higher headquarters.  e Limestone reorganized under the High Performing Organization (HPO) in January 2007 and at that time I was reassigned to AM&C, a Directorate which previously did not exist.  ¢ My challenge during that time was to staff my branch, implement an aggressive training schedule, and ensure the continuity of financial  reporting was maintained.  As we transitioned into the HPO we continued defining the missions and functions for AM&C for the entire network.  I participated in biweekly conference calls with Standards and Compliance in an effort to define missions and functions for AM&C.  Worked with management in determining FTEs needed for the branch.  I was responsible for developing meaningful performance standards for my employees since this branch and its functions did not previously  exist.  Limestone POC for an initiative to eliminate suspense accounts throughout the agency.  © Identified suspense accounts not initially targeted, formulated strategies to eliminate accounts or requested waivers, and participated in plans to modify processes using suspense accounts, such as the interfind suspense account.  © These actions provided initial progress towards meeting the Department of Treasury\\'s mandate to discontinue suspense accounts by February 2009.  ¢ Worked with staffto reduce reconciliations from $6.9 million in February 2007 to $1.1 million in August, accomplished this despite loss in experienced personnel and realigning resources to support critical initiatives in Accounts Payable.  © T orchestrated the transition of reporting requirements for the Transportation Financial Management System (TFMS) workload from DFAS Onmha to Limestone.  ¢ After transition to Limestone encouraged staff responsible for these reports to streamline the processes.  ¢ Staff automated a completely manual, time consuming process, thus eliminating potential key stroke errors and manually validating numerous spreadsheets and listings.  © Contributor to Federal Managers Financial Integrity Act (FMFIA) Compliance Review and establishment of assessable units.   © Identified inconsistencies in information provided by staff on foreign currency fluctuation adjustments.  ¢ Persisted in getting higher level review of regulatory and policy guidance. ¢ Report of foreign currency fluctuation is now consistently accurate.  Company Name February 2000 to January 2007 Chief; Accounts Payable Branch City , State  ¢ As Chief Of Accounts Payable I was responsible for the overall management of a branch consisting of over 120 employees.  e My four first line supervisors were responsible for establishing priorities, schedules, and work assignments ensuring changes in workload are accounted for to minimize the impact on normal office operations.  ¢ We consistently reviewed these areas and made necessary personnel moves based on shifting priorities.  ¢ This was extremely important during the DFAS Denver directed database consolidations and with the assumption of the Air National Guard workload.  ¢ Workload increased rapidly while staffing increased gradually, which dictated frequent priority changes and personnel moves.  © [also worked closely with the Major Commands supported by DFAS Limestone strengthening our partnership when workload spikes negatively impacted our customers.  ¢ InDecember 2004, our overaged invoice percentage was nearing 25% and we had a backlog of vendor pay documents exceeding 30,000.  e By working with the DFAS Command Client Executives and the Major Command Comptrollers, I was instrumental in forming a strategy that included soliciting Air Force personnel assistance in document processing, identification of \"must pay now\" bills, and the formation of special action response teams dedicated to responding to our customer\\'s most urgent requirements.  e Asa result of these efforts, ina three month period, we were able to reduce our overaged invoice percentage by 19% and our backlog of documents to no documents over 20 days old thereby minimizing the adverse impact on customer funds.  ¢ I was responsible for providing personnel feedback sessions quarterly and prepared supervisory appraisals of employees’ performance and potential for advancement.  ¢ Partnering with the management staff and employees, I was instrumental in establishing Employee Performance Plans that linked employee performance to established DFAS Strategies and Balance Scorecard goals.  © In this position as a supervisory accountant I was responsible for performing ongoing analysis of the Vendor Pay workflow and production to identify negative trends and weaknesses, ensure specific weaknesses have been corrected, and determine whether systemic or repeat issues have been identified and adequately addressed.  © Iwas required to apply a comprehensive knowledge of analysis/reporting requirements, work processes, vendor pay system structures, and data produced to resolve these issues.  © Utilizing my expertise with Louis II data retrieval software, I produced ad-hoc data queries for in-house and external use by our customers.  © These retrievals were designed to reduce the man- hours necessary to perform complex finance and accounting functions by DFAS and Air Force personnel.  ¢ Iwas responsible for the budget resources necessary to operate the branch.  ¢ In this capacity, I prepared budget over execution justifications, plan and monitor overtime costs, and control supply purchases to ensure the most cost efficient operation possible.  ¢ I was required to respond to inquiries from various sources, which include, but are not limited to, vendors, DFAS management, accounting  liaison offices, resource advisors, and other DFAS field sites.  These inquiries required my ability to relay technical aspects of systems deficiencies to customers who are not familiar with our operation.  I participated in video teleconferences, conference calls, and briefings designed to address customer and DFAS management requirements.  I was called upon to explain, in laymen\\'s terms, DFAS policy and procedures with regards to delays in payment due to various reasons.  I responded to various audit reports and studies; ensuring senior management and audit personnel, understand particular situations within the  Vendor Pay business process that result in these findings.  Company Name February 1999 to February 2000 Chief, Recon and Reports Branch City , State  ¢ Inmy position as Chief; Vendor Pay Reports and Recon Branch, I exercised supervision (either directly or indirectly) over 22 employees primarily in the \"525\" series in grades ranging from GS-5 through GS-8.  © This responsibility also included supervision of the German local national workers assigned to my duty section.  © Twas responsible for planning, directing, and supervising the activities of the work force in the review, interpretation, processing, and reconciliation of vendor pay and accounting data and the production of timely and accurate financial statement report requirements.  ¢ I participated in the development of branch policies continually reviewing and evaluating the organizational operations, work distribution, and procedures.  ¢ I coordinated the activities of the assigned fictions with those of other organizations to obtain the most effective correlation of financial data.  © Directed and provided technical guidance to subordinates in the assigned area.  e Assured the timeliness and accuracy of assigned workload.  © Planned, organized, directed, coordinated, and reviewed the work of subordinate\\'s sections ensuring the mission and functions of the division were carried out.  ¢ I managed and realigned resources, conducted program analyses, and made decisions in accordance with unit cost principles, outputs, targets, and changing budgetary constraints.  ¢ I participated in long range planning, goal setting, and evaluating the subordinate staff.  ¢ Interpreted and clarified branch policies and resolved operational problems.  © Ensured efficient utilization and professional development of my staff   ¢ Iwas expected to provide reasonable assurance that operations were conducted in compliance with applicable laws and that finds, property, and other assets were safeguarded against waste, loss, unauthorized use, or misappropriation.  ¢ T ensured continuing and affirmative application and support of DoD and DFAS policy concerning the equal opportunity and affirmative action programs.  ¢ Ensured personnel management within organizational entity under my supervision was accomplished without regard to race, color, religion, sex, age, national origin, or handicap.  ¢ I kept abreast of developments, policy issuance, and other similar material in the equal opportunity field and fully supported the DoD and DFAS Equal Opportunity Program.  © Iwas responsible and accountable for the safety and health of my subordinates.  ¢ T ensured personnel were trained to work safely.  © T enforced safety and health rules, corrected unsafe or unhealthy acts and unsafe or unhealthy mechanical or physical conditions, investigated mishaps and tool other actions necessary to ensure the safety and health of my employees.  Company Name June 1995 to February 1999 Chief, Accounts Payable Branch City , State  © Iwas responsible for establishing priorities, schedules, and work assignments ensuring changes in workload are accounted for to minimize the impact on normal office operations.  ¢ This was important during the DFAS Denver directed workload realighment to the Field Sites servicing our customers by Major Command.  © Workload increased which dictated frequent priority changes and personnel moves.  ¢ Talso worked closely with the Major Commands supported by DFAS Limestone strengthening our partnership when workload spikes negatively impacted our customers.  © Iwas responsible for providing personnel feedback sessions quarterly and preparedsupervisory appraisals of employees\\' performance and potential for advancement.  e Asa supervisory accountant I was responsible for performing ongoing analysis of the Vendor Pay workflow and production.  | identified negative trends and weaknesses, ensured specific weaknesses were corrected, and determine whether systemic or repeat issues were identified and adequately addressed.  ¢ I was required to apply a comprehensive knowledge of analysis/reporting requirements, work processes, vendor pay system structures, and data produced to resolve these issues.  © Utilizing my knowledge with Louis II data retrieval software, I produced ad-hoc data queries for in-house and external use by our customers.  © These retrievals are all designed to reduce the man- hours necessary to perform complex finance and accounting fictions by DFAS and Air Force personnel.  ¢ Iwas responsible for the budget resources necessary to operate the branch.  ¢ In this capacity, I prepared budget over execution justifications, plan and monitor overtime costs, and control supply purchases to ensure the most cost efficient operation possible.  ¢ Iwas required to respond to inquiries from various sources, which include, but are not limited to, vendors, DFAS management, accounting liaison offices, resource advisors, and other DFAS field sites.  © These inquiries require my ability to relay technical aspects of systems deficiencies to customers who are not familiar with our operation.  ¢ I participated in video teleconferences, conference calls, and briefings designed to address customer and DFAS management requirements.  © Twas often called upon to explain, in laymen\\'s terms, DFAS policy and procedures with regards to delays in payment due to various reasons.  ¢ I was required to respond to various audit reports and studies; ensuring senior management and audit personnel, understand particular situations within the Vendor Pay business process that result in these findings.  © Twas hand selected by the Field Site Director and Vendor Pay Site Manager to represent DFAS Limestone on a team comprised of representatives from all DFAS Denver field sites to provide training to our Air Force base level Resource Advisors.  © During a five week period, I provided \"Boot Camp\" training to over 400 base level personnel ensuring resource advisors were familiar with the DFAS structure and mission requirements related to finds management.  Company Name June 1994 to June 1995 Accountant, Network Assistant Team City , State  e Asa member of the Network Assistance Team, I was required to have an extensive working knowledge of DoD accounting systems, theory, policy, and procedures.  ¢ Iwas consistently called upon to develop and implement procedures consistent with DoD regulations.  © Coordinated with DFAS Denver and the Omaha Field Site on the consolidation of the first geographically separated Defense Accounting Office into DFAS.  ¢ Inmy position as a member of the Network Assistance Team was required, upon arrival at each base level Defense Accounting Office (DAO) to provide an i-brief  © This briefing identified team members, the purpose of the visit, goals, and responsibilities.  © Upon completion of the assignment, provided a written and oral out-brief outlining the team accomplishments during the visit.  © I provided recommendations to preclude recurring problems and to prepare the organization for consolidation.  Company Name June 1993 to June 1994 Supervisor, Accounts Control Branch City , State  @ T diracted/emerviced the accamnlichment ofall financial ranarte and ctatemente   A UU OU HOU HY GU CULE HLL U4 Git MUU LUPULL GRE ULM.  I was responsible for the completeness and accuracy of weekly, monthly, quarterly, semi-annual, and annual reports.  Monitored errors in the General Accounting and Finance System (GAFS/BQ) and ensured corrective actions were accomplished.  T also ensured find balances were reconciled to the appropriate audit listings and verified reports prior to release to base activities and  higher headquarters.  ¢ I furnished accounting data to base organizations often interpreting and analyzing the data to help finds managers resolve problems and manage their programs more effectively.  © Tattended Major Command (MAJCOM) and Headquarters level workshops to participate and contribute to accounting policy and system changes.  ¢ I provided professional assistance to Data Automation relevant to processing of accounting and finance data, interpreting deficiencies in software based on output products and system related problems.  © [utilized my working knowledge of commercial and government accounting system principles and knowledge of Processing Centers (PCs) to review, verify, analyze, and evaluate accounting and finance operations.  © While serving as Chief, Account Control I ensured areas of concern were addressed, concentrating on problem areas related to the database.  © [analyzed computer output products to determine processing deficiencies.  © They included, but were not limited to, the Open Document Listing (ODL), Operating Budget Ledger (OBL), Allotment Ledger (AL), and the Accounting and Finance Workload Information Management System (A&F WIMS) Extract list.  © I provided technical assistance related to policy and procedural.  © changes required as a result of the impending base closure.  e Analyzed/developed and recommended improved training procedures enabling better use of system procedures ensuring governing directives were followed.  © T evaluated accuracy of accounting records prior to fiscal year closeout ensuring the Accounting and Finance Officer could certify their accuracy as required by regulation.  ¢ Examined accounting transactions and documents to ensure they conformed to established accounting policy and principles.  © Coordinated and directed fiscal year end conversion for the GAFS and Integrated Accounts Payable System (IAPS).  eee.  Education Northern Maine Community College 1994 Associate : Accounting City , State , USA  Emphasis in Business 1994 Associates : Accounting City , State , USA GPA: GPA: 3.41  Accounting GPA: 3.41 174 Hours, Quarter  Attended Husson College, major Accounting 78 semester hours toward Bachelors degree.  Professional Military Comptroller School, 6wk, 4-98; Managerial Accounting I, 09-98; Interested-Based Bargaining Training for Management, 24hrs, 09-01; Auditing Methods and Concepts 09-98; Organizational Leadership, 32hrs, 07-03; Management Development II, 32hrs, 07-03. Certifications  Certified Defense Financial Manager, CDFM, May 2005  Interests  American Society Of Military Comptrollers  Additional Information  Skills  Accounting; General Accounting; Accounts Payable; Program Management.',\n",
       " \"STAFF ACCOUNTANT  Summary  Highly analytical and detail-oriented professional; possessing extensive financial statement background in quality assurance, compliance, auditing, customer service and regulatory requirements. Thorough knowledge of financial reporting, cash and accrual basis accounting, find basis reporting, GAAP and other accounting standards. Adapt quickly when new software and systems are installed. Proficient with: QuickBooks, MAS, ADP, Condo Manager, Adobe, and all Microsoft applications software. Excel in problem solving and strategic planning skills.  Hight  DBA Quick Books MAS - Sage Software Microsoft Excel ADP Drive Microsoft Access Condo Manager Microsoft Word  Education  Bachelor of Science : Accounting , May 2010 University of North Carolina 1/4 City , State Accounting  Bachelor of Science : Business Administration Finance , May 2010 Business Administration Finance  Experience  Staff Accountant  January 2014 to October 2014 Company Name i City , State  ¢ Performed all month end functions to produce financial statements.  © The fictions include: reconciliation of the operating and payroll bank accounts, recorded sales for the month, recorded payroll journals, accrued payroll, recorded sales tax, submitted sales tax to NC department of revenue, recorded inventory adjustments, and recorded balance sheet month end entries.  Entered all payables and receivables for the 7 franchise locations.  Worked with vendors to resolve any situations that arose.  Reviewed and maintained that all needed franchise document were on file and up to date.  Worked directly with controller on year-end review.  Assembled all requested financial and legal documentation that was put into presentable formats.  Maintained weekly spreadsheet on collected franchise royalties and advertising fees.  This spreadsheet is used for the year-end audit.  Managed a company that owned and rented out 12 commercial properties of a shopping center to approved businesses.  Responsible for: negotiating rent rates for new or renewing tenants, writing leases, collecting rent, cash flow management, payables, and resolving any tenant complaints or inquires.  Managed a company that was a small farming entity.  Responsible for maintaining cash flow, all payables, and setting up credit accounts with vendors.  Entered all payroll journals and maintained cash flow for company that employed labor to work at farming entity.  Filed North Carolina Annual Report for all companies managed by Cary Keisler Inc.  and verified that all were current on their filings.  Staff Accountant March 2013 to January 2014 Company Name i'/ City , State  Collect daily deposits for newly entered SOs as well the balance for any SO that has completed once a job status report has been ran. Interact directly with customers on outstanding deposits and balances due.  Responsible for all PO and non PO payable entry/coding for all companies.  Work directly with vendors to resolve and discrepancy with payables.  Pull weekly-unpaid bills reports that are used for cash flow projections.  Complete weekly check run for all companies.  Reconcile monthly purchasing American Express credit card that ranges from $60,000.00 - $100,000.00+.  Helped facilitate roll of purchasing manager during tumover period from September 2013 - December 2013. Responsible for ordering needed materials/supplies for factory production floor.  Worked directly with VP of Finance and members of the production floor in collection of data to develop unit valuation. This information combined with continued data collection is being used for future bills of materials and job costing,  Staff Accountant April 2012 to March 2013 Company Name 1'/ State  Lead reconciliation of Balance Sheet to ensure no discrepancy with General Ledger.  Research and resolve any transaction deviating from ordinary operations.  Run Project Cost Reconciliation at month end to ensure all billable expenses are posted to a project.  This ensures all enries are posted to the correct project and General Ledger account.  This provides billing information as well as the correct bottom line for each project.  Design Excel Spreadsheet for prepaid employee benefits for EOM reconciliation purposes.  Reconcile American Express accounts for SDI and Battleware.  10 Accounts) Responsible for all entry and custodial book keeping of SDI's fixed assets for depreciation purposes. Daily reconciliation SDI's Operating, Interest Sweep, and Line of Credit accounts for most accurate cash projections. Responsible for coding and entry of all Payables items for SDI and Battleware.  Prepare monthly Sales and Use Tax.  Financial Management Partner   July 2010 to August 2011 Company Name i'/ City , State  Identified, reported, tracked, and resolved subsidiary ledger discrepancies in all phases of the revenues and receivables accounting processes.  Provide an end to end financial statement assurance and accurate presentation by aiding and completing tasks in all areas of operations; performing all monthly bank reconciliations, applying all required financial regulations in preparing and delivery of financial statements. Provided Support to clients and other employees via email on implementations, software support, and financial reporting issues in all aspects of day-to-day operations.  Trained new accounting department employees with functionality demonstration to assist in proficient accounting support and software transitioning ie.  QuickBooks, Peachtree and excel transitioning,  Able to perform duties of all departments of accounting including accounts payable, accounts receivable, legal coordination and transactional audit and review.  Coordinate Lien and Foreclosure preparations, research ownership status and balance histories in order to accurately file legal claims on behalf of our cliental.  Constant analysis of all clients' interim financial reports and comparative statements to verify the validity and monitor for inconsistency. Prepare variance reports and explanations to quickly summarize areas of increased variances in expenses.  Assist other areas of management in find accounting budget preparations and presentation at annual and monthly board meetings. Coordinate and prepare materials for audits, review, and tax returns.  Assist in annual budget preparations, prepare billings for all cycles, perform all adjusting month end transactions and required G/L posting entries required to correct errors or balance discrepancies.  Interests Alpha Signa Phi: Officer and Chair positions January 2006- May 2010 Vice President Social Chair Greek Week Delegate Livestrong Foundation: Bike-a-thon  Skills  accounting, accounts payable, Accounts Receivable, ADP, advertising, AR, balance sheet, balance, bank reconciliations, benefits, billing, billings, book keeping, budget, cash flow projections, cash flow, controller, Credit, clients, data collection, delivery, documentation, email, Finance, financial, financial reporting, financial statements, fixed assets, General Ledger, inventory, job costing, ledger, legal, materials, meetings, Microsoft Access, Microsoft Excel, Excel, Microsoft Word, negotiating, DBA, Payables, payroll, Peachtree, processes, coding, purchasing, Express, Quick Books, QuickBooks, Research, Sage, Sales, Spreadsheet, Tax, software support, valuation, year-end  Additional Information  Activities: Alpha Sigma Phi: Officer and Chair positions January 2006- May 2010 Vice President Social Chair Greek Week Delegate Livestrong Foundation: Bike-a-thon\",\n",
       " \"ACCOUNTANT  Professional Summary  To obtain a position in a fast-paced business office environment, demanding a strong organizational, technical, and interpersonal position utilizing ny skills and attributes. Attributes Self motivated and honest; good work ethic Effective working alone or as a cooperative team member Reliable and hard-working; thorough in completing projects Committed to excellent customer service  Core Qualifications  Intermediate Word Advanced Excel PowerPoint Intermediate Access Accounts Receivable Accounts Payable QuickBooks Enterprise Outlook Customer Service  Experience  Accountant  January 2011 to November 2015 Company Name i/s City , State  Processed accounts receivables payments received by ACH, Lockbox, Credit Card and Checks. Maintained all banking activity.  Documented all loan and other payments to the proper G/L Accounts.  Review and maintain all positive pay processing with the bank.  Review and processed accounts payables reports.  Processed all accounts payables by check, domestic and international wires, ACH, and credit card. Reconcile all bank statements.  Maintained all credit card activity for all credit card holders, documented transactions to the proper G/L Accounts. Calculate and process all Sales quarterly commission reports.  Review and complete all credit checks and reference checks on new customers.  Maintain and file the quarterly reports for the Job Development Credit with the State of South Carolina. Order passports and Visa's for international travel.  Accounts Receivable Clerk January 2008 to January 2010 Company Name 1% City , State  Performed data entry.  Processed accounts receivable payments.  Reconciled delivery driver's cash and checks with daily invoices.  Corresponded with customers through email and phone calls on overdue invoices. Sent bi-weekly and monthly statements.  Created and maintained monthly inventory depletion and sales reports to suppliers. Balanced and solved problems with customer's accounts.  Filed customer and suppliers invoices.  Ran daily trial balance.  Ran the end of day closing reports.  Mortgage Underwriter January 2006 to January 2008 Company Name 1% City , State  Processed new residential mortgage loan submissions.  Provided clear and consistent written and verbal communications with customers/clients.  Provided a strong analytical aptitude for reviewing credit reports, bank statements, preliminary title reports and appraisals. Corresponded with customers, loan officers, and account managers for information needed.  Commercial Auto Underwriter January 2004 to January 2006 Company Name i City , State  Processed new business commercial auto applications and issued endorsements. Performed data entry, reviewed applications, loss runs and driving records.  Provided clear and consistent written and verbal communications with customers/brokers. Gail L.  Lugo Page 2 864-472-7092.  Personal Auto Underwriter January 2001 to January 2004 Company Name i City , State  Processed new business, renewals and endorserrents.  Performed data entry, reviewed applications, loss runs and driving records.  Processed account receivable premium checks for insurance premiums.  Consistently resolved and answered customer concems and questions by properly and promptly reviewing policies, endorsements and  premium payments.  Claims Examiner January 1983 to January 2001 Company Name 1% City , State   Trained coworkers on multiple tasks and administrative fictions.  Reviewed medical records and made decisions regarding disability payments.  Performed data entry.  Created, designed and maintained various insurance documents which complied with Truth and Lending regulations. Responded to and resolved all customer inquiries via telecommunications and written correspondence.  Developed and maintained measures of self-directed team performance which improved workflow.  Consistently exceeded company goal of required number of paid claims per hour.  Performed journal entries and ledger postings.  Reconciled bank statements, budget accounts, and accounts receivable/payable records.  Rapidly promoted ftom Level I to Level III within a one-year period due to excellent work performance.  Education  Computer Applications Specialist Certificate Program : 2008 Martinez Adult Education, Business Training Center 1/4 City , State  Skills  accounts payables, accounts receivables, Accounts Payable, Accounts Receivable, administrative fictions, trial balance, banking, budget, bi, closing, Computer Applications, Credit, clients, Customer Service, data entry, delivery, driving, email, insurance, inventory, ledger, Access, Excel, Outlook, PowerPoint, Word, mortgage loan, Enterprise, policies, QuickBooks, Sales, sales reports, telecommunications, phone, workflow, written\",\n",
       " \"SENIOR ACCOUNTANT  Experience  Company Name June 2011 to Current Senior Accountant City , State  © Prepare quarterly and annual financial statements for 17 multi-family communities for distribution to investors and financial institutions.  © Reconcile and account for all activity on the income statement and balance sheet including cash, fixed assets, derivatives, equity, and property debt.  © Coordinate and review work of external audit firms.  ¢ Initiate capital calls and distributions for investors.  © Manage budgets and construction loan activity for approximately $100,000,000 in active construction projects in FL, MA, and MD.  Company Name March 2010 to June 2011 Associate Fund Controller City , State  © Performed quarterly and annual close procedures for MSREF (Morgan Stanley Real Estate Funds) 6I, the largest international real estate investment find to date with $8 billion of partnership assets, and draft financial statements distributed directly to fund investors.  e Lead quarterly management fee process by performing work to draft approximately $14,000,000 in bills to find Partners.  © Develop work plan to ensure deadlines are met, test results, delegate work to other Fund Controllers, and perform detailed review of their work.  © Lead MSREF 61 initiative to implement reinvestment of proceeds (ROP) methodology to reallocate approximately $120,000,000 in cash to-date amongst investments with deficient cash balances to cover contributions and expenses.  ¢ Write formulas to analyze cash movement in Microsoft Excel and assist four Information Technology Vice Presidents in programming the partner capital sub ledger system to calculate the movement and test results.  © Wrote standard operating procedures memo for ROP to train team members.  Company Name June 2007 to March 2010 Advisory, Forensic and Audit Associate City , State  ¢ Performed research to locate red flags in numerous potential fraudulent mortgages at one of the largest bank failures in U.S.  © history.  © Developed writing skills by drafting over forty memoranduns that summarized potential fraud in loans that were presented to multiple agencies of the Government.  ¢ Wrote a thirty-five page corporate intelligence narrative explaining personal and Professional relationships of an individual under investigation.  © These tasks assisted the FBI in arresting the individual, suspected of orchestrating a two billion dollar mortgage fraud scheme.  ¢ Performed substantive test work, analytical procedures, and testing of controls at multiple audit clients, including leading the sales and inventory test work ofan international company with approximately one billion in annual sales.  ¢ Audited cash, receivables, investments, inventory, payables, property, debt, equity, revenue, cost of goods sold, and expenses.  ¢ Analyzed audit client's major accounting processes, identified control weaknesses, and recommended solutions and improvements.  ¢ Worked on multiple phases, including fraud investigations and data analytics, ofa high profile engagement involving the largest natural disaster relief fiind in United States history and was the first to analyze, discuss, and research a series of fraud allegations received from an anonymous telephone hotline that lead to a new, lasting client relationship with the Federal government.  ¢ Analyzed a series of bank accounts owned by over twenty customers ofa large, domestic bank to determine the amount of finds stolen and trace illicit transfers made by a bank employee from each account in a multi-million dollar fraud scheme.  August 2006 to May 2007 Accounting Tutor Sole Proprietorship City , State  © Held private sessions to teach financial accounting to over 25 individual client needs and wrote practice questions which resulted in grade improvement amongst all clients, including one who increased his exam performance by 35 percentage points after sessions.  Education  EMORY UNIVERSITY, Goizueta Business School 5 2007 Bachelor of Business Administration : Accounting City , State GPA: GPA: 3.63/4.0 GPA: 3.77/4.0 Accounting GPA: 3.63/4.0 GPA: 3.77/4.0  Interests  Fulton County CASA Board of Directors Member, Treasurer. Plan find raisers, review budget and financial statements, and supervise CASA staff in not-for-profit organization that trains volunteers to mentor children being pulled from their homes through the Fulton County court system for abuse and neglect. CPA, Hold an active Georgia license and scored between 87 and 93 out ofa possible 99 on each of the four sections of the CPA exam CFE, Certified Fraud Examiner, which  Skills  accounting, balance sheet, budgets, client, clients, derivatives, drafting, equity, financial, financial accounting, financial statements, fixed assets, Funds, Government, Information Technology, inventory, investments, ledger, MA, Microsoft Excel, natural, page, payables, processes, programming, Real Estate, research, sales, scheme, telephone, writing skills  Additional Information  ¢ COMMUNITY SERVICE, CERTIFICATIONS AND AWARDS Fulton County CASA Board of Directors Member, Treasurer. Plan   fund raisers, review budget and financial statements, and supervise CASA staff in not-for-profit organization that trains volunteers to mentor children being pulled from their homes through the Fulton County court system for abuse and neglect. CPA, Hold an active Georgia license and scored between 87 and 93 out ofa possible 99 on each of the four sections of the CPA exam. CFE, Certified Fraud Examiner, which requires passing four exams and two years work experience in preventing and detecting fraud. Recipient, 2007 John R. Jones Accounting Award. Given annually by vote of Emory University Professors to recognize the top performing senior year student in academia, community involvement, and character. Recipient, 2006 Ben Pius Award. Awarded by Emory Professors to recognize exceptional achievements by the highest performing junior year accounting student at Emory University.\",\n",
       " 'SENIOR ACCOUNTANT  Professional Summary Senior accountant who completes accounting activities with accuracy and speed with extensive experience in fill life cycle of general ledger accounting Skills e Aderant/CMS e Financial reporting ¢ Excel © US GAAP principles © QuickBooks Pro « IFRS « SQL © Bookkeeping © AccessA ¢ Budget development ¢ Peachtree ¢ Individual tax returns e Hyperion © Essbase Work History  Senior Accountant Mar 2006 - Current Company Name City , State  ¢ Reconcile various balance sheet accounts not limited to cash and liability accounts, including bank statements, for the purpose of maintaining  the accuracy of the general ledger in accordance with cash, GAAP, and various international tax legislative basis.  Perform the primary liaison fiction for the interim and annual audits performed by Deloitte.A  Perform assigned schedules for interim and annual audits.A  Assist auditors with understanding of firm\\'s internal controls which include revenue and expenditure cycle. A  Review and analyze journal entries from the original accounting source and if\\'a variance from the general ledger is found, initiate discussions  with specialists in accounts receivable, accounts payable, payroll, and tax department to resolve the discrepancy.  Review and analyze international payrolls inA aspect of income tax, local tax, consumption tax, and fringe benefit deductions for Seoul, Shanghai, and Tokyo office and upload into Aderant/CMS for posting into the general ledger.  Analyze and reconcileA value added tax for Vienna and Seoul office  © Resolve currency fluctuation issues and record gains/losses related to currency exchange rates for the international offices of the firm by using currency mode journal entries.  e Analyze expatriate expenditures on monthly basis to be reported on W-2 form  © Prepare initial K-1 schedules to be filed by tax department  Prepare month-end various accrual journal entries including base wage, bonus, occupancy, prepaid property insurance, telecommunications,  and catering accruals.  Prepare and analyze expense allocations from firm general to local offices on a monthly basis.  Review and analyze inter-company transactions for Seoul, Shanghai, Tokyo, and Vienna office  Prepare monthly financial statements, which are shared with the partners and management of the firm.  Assist in translation of various fixed asset invoices ftom Seoul and Tokyo office and other Asian offices! travel expense reports.  Notable accomplishments: Found material misstatement in prepaid property insurance for the first quarter of \\'08 and made prospective  adjustments to the related general ledger accounts.  © Provided clarity in Japanese payroll systems associated with health, welfare, and childcare allowance to the management and made prospective adjustments to the related general ledger accounts.  Accountant Jan 2005 - Mar 2006 Company Name City , State  e Maintain financial records in accordance with GAAP to be reported to a parent company and investors.  ¢ Analyze & reconcile G/L accounts and prepare semiannual, and end year B/S, I/S, and statement of cash flows Coordinate with warehouse manager to ensure daily shipping schedules.  © Communicate with outside company\\'s designated CPAs when tax issues arise.  ¢ Establish master employee payroll record file for information entry into payroll system  © Receive & compute hours, make deductions for 401K, health insurance, and other adjustments thru Paychex Prepare loan applications and maintain factoring arrangements with A/R schedule.  ¢ Assist in training, guidance and coordination of accounts payable, accounts receivable, and other departments and site personnel.  ¢ Performed semi-annual inventory valuation.  Financial Analyst Aug 2002 - Jan 2005 Company Name City , State  Manage and forecast funds for Palm Desert National Bank sponsored 350 ATM terminals averaging 2.5 million on a weekly basis. Reconcile & settle, and act as lead accountant for Innobeta Systems, Inc., (affiliate of Money Marketing, Inc.).  Prepare monthly Profit and Loss reports as to surcharge and interchange.  Analyze communication and armor carrier expenses as a temporary M&A team member during due diligence procedure of ATM World Corp.  Analyze processing costs and network fees in terms of EFTs.  © Prepare audit work papers, confirmations and other documentation to make the audit efficient and hold on audit fees in connection with annual audit.   ¢ Perform analysis of general ledger accounts; prepared journal entries and adjustments to facilitate closings.  ¢ Assist in the preparation of fill financial statements and footnotes for investors and lenders.  ¢ Review work of staffand operations to assure that certain daily procedures and reconciliations were performed routinely according to policies and procedures.  ¢ Translate and prepare documents pertaining to defective parts of ComNet ATM Series assembled and distributed by Nextran Industries, a subsidiary company of Chungho ComNet Co., Ltd.  © Consult private investors and customer services.  Education Bachelor of Business Administration : Accounting August 2002  TEMPLE UNIVERSITY City , State  Accounting Audit Project: \"Identifying potential risks that would impact the audit of Xerox Corp.\" Select Courses: Advance Accounting, Accounting Information System, Auditing & Assurance Services, Taxation  Interests  ¢ World travel/Photography/Golf/Soccer/Movie/Fashion Certifications  * Certified Public Accountant, New York State, Date of issued: 03/04/2015, License number: 117205 Additional Information  ¢ Activities: Vice President, APS (Accounting Professional Society) at Temple University, 2001 - 2002',\n",
       " \"INVESTMENT ACCOUNTANT Career Focus  Accomplished and results oriented Investment professional with strong leadership and interpersonal skills who adds energy and value to an organization's quest for excellence.  Sumnmry of Skills Internet and Microsoft Office - MS Word, MS Power Point, MS Excel, Pivot Tables, Spreadsheets,  ¢ Variance analysis  Macros. © Detail-oriented e Analytical * Business Objects, Lombardi, Eagle Accounting System, PEGA, DRAS, Workbench. ¢ Expert in MS Office Suite ¢ Account reconciliation expert e Effective time management Account reconciliations © Complex problem solving ¢ Superior research skills Detail-oriented Accomplishments  Multiple awards for performance.Formully recognized for excellence achieved in financial analysis, budgeting and forecasting, Increased efficiency of discrepancy investigations by [Number]% by designing a more accurate cash-forecasting system.  Professional Experience Company Name City , State Investment Accountant 10/2012 to 11/2015  Reconciled mutual find accounts with the custody Identified and Resolved differences in Custody and Accounting Cash, Currency and Positions using Eagle, IAX, Business Objects, Lombardi and Workbench Reports Communicated and Collaborated with other areas in the firm, client, fimd accountant, custodians that are impacted by the functions of the team Conducted weekly client meetings and act as liaison between Accounting and custody to resolve any outstanding items in cash, currency and positions.  Completed special projects from the management as needed Trained, Oversee and assisted staff in offShore team (Pune, India) and acted as a liaison between Pune Office and US.  Helped US team by performing tests on Pega Vs.  Business Objects and Eagle during the Platform Migration Trained new staffand assist them as needed to meet the department goals.  Ran daily reports for find accountants using business objects and MS Database.  Award: Received a special achievement award at BNY Mellon Bank in Asset Servicing (Dec 2013) Award: Received a special achievement award at BNY Mellon Bank in Asset Servcing (Dec 2014.  Company Name City , State AML Compliance Officer 11/2011 to 03/2012  Audited customer's bank accounts in the company's system Performed quality assurance reviews on customer information maintained on various bank systems Reconciled the quality assurance results on spreadsheets Performed background search on clients using tools such as world check and google search Finance Projects at UD Project 1: Group simulation project to develop the investment philosophy and strategy to drive a simulated investment of $1,000,000 using Stock-Track.  Invested about 50% of our finds in moderate to high-risk investment in order to achieve capital appreciation; Invested about 25% of our funds in low to moderate risk investment in order to preserve our capital.  Invested 25% of our funds in derivatives and rest in index fund, cash and money market.  Performed an analysis to determine the allocation of stocks by minimizing CV and graphed the daily returns for each stocks Performed regression analysis and analyzed the regression statistics on weekly returns.  Performed an analysis on our group's portfolio with the market and with other groups.  Case analysis on Price Momentum Strategy Used price momentum model analysis to test whether the price momentum model will work on US stock market as it did with the US Canadian stocks.  Used the weighted annual returns and created the worst outlook portfolio and the best outlook portfolio Selected the top eight performing stocks for each quarter to create the best outlook portfolio and compared to the market to determine if the pricing momentum would hold up.  Calculated the average return for each portfolio and rebalanced the portfolio and compared to the S&P 500 for each quarter within the same time period.  Company Name City , State Medical Technologist 07/2008 to 03/2012  Clinical Microbiology Experience - Highlights include ordering, processing, plating and culturing patient's specimens Tests - Performing   rapid tests such as Rapid flu, C.Diff quick check and many more; Performing rapid and confirmatory tests to identify organism; Reading Gram stain slides. © Other - Performing daily maintenance and running quality control on instruments.  Education Master of Business Administration : Finance 2011 University of Delaware , City , State , USA  Finance Bachelor of Science : Medical Technology 2008 University of Delaware , City , State, USA Medical Technology  Related course work in Business: Financial Reporting and Analysis, Financial Management, Corporate Financial Policies, Investment Analysis and Portfolio Management, Corporate Governance, Financial Engineering and Risk Management (Derivatives). Languages  English, Marathi, Hindi, Gujarati  Personal Information  Excellent multitasking, analytical thinking, time management, negotiation, communication, organization and leadership skills Additional Information  ¢ Excellent multitasking, analytical thinking, time management, negotiation, communication, organization and leadership skills Skills MS Office: Database, Macros, V-look up, Pivot tables, Outlook  Company Platforms: Business Objects, Workbench, Eagle, Pega, Lombardi, DRAS.\",\n",
       " \"ACCOUNTANT Summary To pursue excellence in the dynamic business world by obtaining a placement allowing me to perform in an environment where honesty, sincerity & a positive attitude would be valued. I would like to take up a challenging job to nourish my qualification , expertise & experience within a reputed organization & firther enhance my performance. Flexible [Job Title] who adapts seamlessly to constantly evolving accounting processes and technologies. Flexible [Job Title] who adapts seamlessly to constantly evolving accounting processes and technologies. Hight  © Dos, Windows 9.x , XP, MS Office, Oracle, Tally, Adobe Photoshop , Adobe Illustrator, Pagenaker, 3d Inifnative, © ¢ Account  Audio Editing, Video Editing , Macro Media Director, Oracle 81, Developer 2000. reconciliations  Accomplishments Enter outstanding achievements that show you can go above and beyond basic job expectations. See Examples General Ledger Accounts  ¢ Maintained accurate accounts including cash, inventory, prepaid, fixed assets, accounts payable, accrued expenses and line of credit transactions.  Experience  October 2011  to  August 2015  Company Name City , State Accountant  © Prepared monthly and annual expense forecasts, including any necessary recommended action required to manage costs to achieve budget. Performed debit, credit and total accounts on computer spreadsheets/databases, using specialized accounting software. Responsible to ensure that receivables are timely collected, Participate in preparation of Monthly Management reports, Stock taking, monthly, quarterly and yearly and running reports for inventory control and analysis, Inspection and follow up of warehouse for stock movement.  © Review of taxation documents and applications for clients, Preparing for cost analysis and variance reports, and supporting management in cost modeling and overhead cost allocation, Processing for final payment for suppliers and staff  ¢ Assisting management in Budget preparation, Checking of proper documentation before payment disbursement.  ¢ Reconciliation of Bank Statements, staff account and supplier accounts, Financial ratios and analysis report of the same, Making MIS report for CFO and senior Management, Coordinating with other departments for financial management.  January 2009 to  September 2011 Company Name City , State Accountant  e Reviewed accountantAs book entries to ensure accuracy of the G/L. Responsible to ensure that receivables are timely collected, Participate in preparation of Monthly Management reports, Stock taking, monthly, quarterly and yearly and running reports for inventory control and analysis, Inspection and follow up of warehouse for stock movement.  ¢ Preparing for cost analysis and variance reports, and supporting management in cost modeling and overhead cost allocation, Maintaining staffaccounts and processing staff salary, leave, and final settlement in timely manner after checking of documents and auditing of the same.  © Processing for final payment for suppliers and staff, Processing and review of tax documents, Assisting management in Budget preparation, Checking of proper documentation before payment disbursement, Liaising with HR and suppliers for payroll and other disbursement.  ¢ Reconciliation of Bank Statements, staff account and supplier accounts, Financial ratios and analysis report of the same, Giving guidance and support for general staff for payroll and finance, Making MIS report for CFO and senior Management, Coordinating with other departments for financial management.  ¢ Aug07- Dec'08 Autol (A-Ghannam Auto World Co.  ¢ WLL), Kuwait Accountant: Responsible to ensure that liabilities are paid on time and receivables are timely collected, Participate in preparation of Monthly Management reports, Maintaining accounts on daily basis, Stock taking and inventory report as well as warehouse inspection, Preparing and disbursing salary and leave to staffafter checking of proper documentation, Reconciliation of Bank Statements, MIS report for senior management.  April 2006  to  May 2007  Company Name City , State Accountant  © Received, recorded, and banked cash, checks, and vouchers as well as reconciled records of bank transactions. Responsible for payable are paid on time and receivables are timely collected, Ensures Co.  © policies related to payments, and contracts are completely followed.  ¢ Preparing payroll for staff Preparation of Financial Statements.  October 2001 to March 2006   Company Name City , State Account Assistant  © Performed debit, credit and total accounts on computer spreadsheets/databases, using specialized accounting software. Maintaining Accounts on daily basis up to finalization, Follow up Accounts receivables and daily reporting to the Management, Preparation of Inventory Reports, Sales Invoices , Purchase Invoices and all accounting Vouchers of debit & credit.  ¢ Sep! 2K- Sep'01 Digital Vish Computers, Udaipur (Raj.) India.  ¢ Maintaining Cash books and Journal book and reconciliation of bank accounts, Preparation of Cash Vouchers & handle petty cash, Daily routine banking works etc.  Education  2006  Vidyasagar University City , State , India MBA : Finance Finance  2000  Mohan Lal Sukhadia University City , State , India Select...  Skills  3d, accounting, Accountant, Accounts receivables, Adobe Illustrator, Adobe Photoshop, Pagemaker, Audio Editing, auditing, banking, book, Budget preparation, contracts, cost analysis, credit, clients, debit, Dec, documentation, Dos, senior Management, finance, Financial, financial management, Preparation of Financial Statements, HR, Inspection, Inventory, inventory control, Macro Media Director, MS Office, 2K, Windows 9.x, works, MIS, modeling, Developer 2000, Oracle 81, Oracle, payroll, policies, reporting, Sales, tax, Video Editing  Affiliations  Enter any professional organizations that you are involved in.  See Examples\",\n",
       " \"ACCOUNTANT  Summary  To utilize my customer relations and management background to obtain a position with a company that places importance on efficiency and success. Employ natural leadership and interpersonal skills to build relationships throughout the organization.  Experience  Accountant Aug 2015 to Current  Company Name i'/ City , State  a€«  Accounting for six companiesA  Maintained confidential information, such as pay rates, bonus targets and pay grades  Processed payroll, electronic deposits and employee pay adjustments  Reconciled all bank and credit card accounts  Processed journal entries, online transfers and payments (internal and external)  Analyzed cost control and provided timely financial information to support company goals  Cost effective purchasing (office equipment & supplies, janitorial, food & beverage)  Reviewed book entries to ensure accuracy of the G/L  Assisted the CFO with the production of the monthly financials and management reportsA  Prepared monthly and annual expense forecasts, including any necessary recommended action required to manage costs to achieve budget Tracked and verified accurate receipt of purchase orders and verified costs against vendor invoicesA Processed A/P weekly, working with 50+ vendors  Processed company purchase orders and communicated with customers regarding orders Researched and resolved collections and billing disputes with tact and efficiency  Researched and resolved billing and invoice problems  Director of Finance & Accounts Jun 2014 to Aug 2015 Company Name  Responsible for daily entry of accounting transactions.  Received, recorded, and deposited cash and checks as well as reconciled records of bank transactions. Verified purchase orders, managed accounts payable invoices and supplied payments to vendors on a weekly basis. Reconciled all bank and credit card accounts.  Researched and resolved collections and billing disputes.  Processed payroll, electronic deposits and employee pay adjustments for 70+.  Issued paychecks to contractors on a bi-weekly basis.  Issued W2.  s to employees & 1099.  s to contractors.  Maintained confidential information, such as pay rates, bonus targets and pay grades.  Processed journal entries, online transfers and payments.  Produced monthly financial summaries and reports.  Maintained employee files, incident reports, unemployment claims and training progress.  Maintained office inventory.  Operations & TrainingConsultant, Franchisee & General Manager Feb 2004 to Current Company Name i State  Training & Operations Consultant July 2015 - Current  Assist six store franchise in training staff and streamlining operations in accordance with corporate standards Monthly unannounced inspections to inspect product and operation standards Work with store managers in developing effective action plans for improvement and guide team members in execution of determined plans  A Franchisee A June 2007 - February 2011  Grow a performance culture, based on teamwork, innovation and training Creatively constructing advertising and promotional deals in accordance with corporate initiatives  Implemented and maintained corporate standards  Drive revenue and reduce expenditures to meet and exceed revenue and profit targets  Maintain integrity of stores, including coding, sanitation, equipment and major appliances  Labor and food cost management; Inventory management  Community and customer relations  Established and implemented internal training and time-management program  Handled tasks related to payroll, inventory and job scheduling  Managed accounts payable and accounts receivable in conjunction with company accountants  Prepared reports, spreadsheets, and administrative documents Maintained office calendars, open and prioritize mail, receive and prioritize   phone calls General Manager A February 2004 - April 2007  © Orchestrating and directing crew consisting of up to 20 people. ¢ Hire, develop and promote talented employees who fit the unique cultures of the restaurant environment. © Improve operational statistics and efficiency.  Patient Service Representative Jun 2012 to Nov 2016 Company Name  Consistently build positive report with patients while accurately and efficiently registering in a timely manner. Perform daily administrative duties including: cash management and internal quality assurance.  Insurance processing and communication.  Patient account resolution and billing assistance.  Provide Preliminary assessment of patient health.  Serve as liaison between patients and medical providers.  Mentor new employees on company policies and practices.  Develop and implement client service techniques to better serve both the patient and corporate needs. Compliance and comprehension of HIPPA regulations.  Effectively prioritize tasksA  Education Bachelor of Science , Accounting Strayer University i/4 City , State\",\n",
       " \"ACCOUNTANT II Accomplishments  Military Training Certificate, 2005; PNC Conversation: Deep Dive into Savings and Investment training 2012; Operational and Soundness Training 2013; Employee of the month (November) at PNC Bank 2011; Employee of the Quarter at PNC Bank 201 1; Retail Banking Achievement Award 2012;.  NMLS- Nationwide Mortgage Licensing System, 2013.  Supervision  Supervised team of two staff members.A  Professional Summary  Detail-oriented Accountant with 5 years effectively maintaining accurate accounting information for large-scale financial organizations.  Skills © Superior attention to detail : . oe : rN ¢ Accounting operations professional . Invoice coding familiarity © Cash Yow arabs P ° QuickBooks expert : ¢ Data trending knowledge ¢ Self motivated professional * Advanced bookkeeping skills © Strong communication skills “ping Work History  Accountant IT , 02/2017 to Current Company Name a€“ City , State  ¢ Responsible for preparing and posting entries for the daily posting packet. © Verifies and balances system originated interfaces and posts non-system generated transactions prepared from other sources.  System originated interfaces refers to the Credit Union owned system as well as external systems, such as shared branching and ATM transaction networks.  A monitor flow of credit union transactions from the various supporting systems into and out of the general ledger daily, and identifies and resolves errors, omissions, and irregularities to provide accurate records for TFCU and its service organizations.  Calculates and posts month end and year-end accruals as needed.  Responsible for maintaining fixed assets and prepaid sub-ledger accounts.  Prepares budget variance reports for various departments as assigned.  Works with that department manager in preparation of annual budget.  Responds to inquiries from that manager regarding budgeted and actual expenses.  Prepares analyses as requested by manager and other departments.  Manages the accounts payable function - including employee/volunteer reimbursement - from processing incoming invoices, through cost center coding, approval by appropriate party, input into the system, to check preparation and mailing,  Identifies vendors requiring an IRS Form 1099 and prepares the form and transmittal.  Manages the Corporate VISA accounts for managers and volunteers, including ordering and canceling cards, processing corporate Visa accounts for payment, and resolving discrepancies.  Along with other Finance Department staff processes outgoing and incoming wires, verifies those wires have all required documentation, and works with branch staff to ensure incoming wires are posted and resolve issues.  Responsible for assisting with the preparation of financial statements.  Accountant , 06/2015 to 02/2017 Company Name a€“ City , State  AOhrs Coordinate and supervise employees within Accounts Payable interacting with internal customers and external suppliers monitoring all controls.  Oversee employee business expense processing for multiple business units leading projects such as system testing and implementation. Communicate accounting policies practices and procedures with department manager's vendors and internal customers to ensure compliance.  Maintains knowledge of all Credit Union processes which affect the general ledger, including share drafts, ACH, wire transfers, ATM, Federal Reserve, and Credit Cards.  Responsible for reconciliation of the clearing accounts, including vault, transfer, on us, bond clearing and cashier check clearing among it's stock ownership.  Responsible for preparing month end and posting entries.  Responsible for assisting with the preparation of financial statements.  Prepare verified processed and maintained a variety of order reconciliation fimctions.  Use office automated systems to input data generate reports conduct investigations and respond to inquiries.  Maintains records for vendors and accounts payable, including 1099s and corporate Visa accounts.  Accountant , 08/2013 to 06/2015 Company Name a€“ City , State   AOhrs Performa variety of support duties related to the accounting function within the credit union; assisting the accounting team in maintaining the financial, statistical, and accounting records; Accounts Payable processing; posting general ledger entries; reconciling general ledger accounts as assigned and miscellaneous filing/scanning of checks, invoices and branch daily work.  Prepare daily cash flow, examined, and analyzed accounting record, financial statements, ACH, wires, and other financial reports to assess accuracy, completeness, and conformation to reporting and procedural standards.  Responsible and supervised two Accounting Clerks Staff, scheduling shifts, assigning responsibilities, answering questions, solving problems, helping with complex transactions and sensitive member relations issues or concerns.  Articulate policies and procedures to members and department staff Maintains files, including filing of general ledger journal vouchers, account payable documentation, and other miscellaneous fillings.  Print daily account payable checks and inserts checks and invoices into envelopes for mailing.  © Verifies and posts details of business transactions, such as finds received and disbursed, and totals accounts, using calculator or computer. ¢ Responsible for ensuring staff are adequately trained in all phases of their jobs; and informed regarding all credit union products and services  Effectively research, track, and resolve or properly refer accounting or documentation problems and discrepancies. Maintains regular contact with other departments to obtain and convey information and/or to correct transactions. Order cash from the Federal Reserve for the branches and ATMs ina timely manner.  Financial Service Representative/ Back-up Supervisor , 01/2011 to 08/2013 Company Name a€“ City  AOhrs Provided customers with prompt, accurate, courteous and professional banking service. Identified and referred sales opportunities to Relationship Bankers about products and services. Utilized several mediums such as phone and emails to help customers.  Assisted customers with opening and closing of accounts.  Answered and resolved problems that are within my authority.  Accepted and processed loan applications and conduct loan interviews.  Assisted members with their financial transactions, involving paying and receiving cash and other negotiable instruments. Maintained proper cash levels at the branch.  Responsible for cash shipments to and from main office to the branch.  Processed all commercial deposits, balanced vault daily.  Responsible for equipment maintenance; assisted staff with balancing problems.  Did random spot check with staff to ensure cash levels are within predetermined branch limits.  Education  Bachelor of Science Degree : Finance , May 2010 University of Maryland - State  Finance  Skills  Accounting, Accounting System, accounts payable, accruals, Articulate, ATM, banking, budget, Business Intelligence, calculator, cash flow, cashier, closing, Credit, documentation, equipment maintenance, filing, Finance, Financial, financial reports, financial statements, preparation of financial statements, fixed assets, finds, general ledger, general ledger accounts, ledger, mailing, Access, Excel, Microsoft Office, office, PowerPoint, Microsoft Word, Works, networks, PeopleSoft, policies, processes, coding, receiving, reconciling, Maintains files, reporting, research, sales, scanning, scheduling, phone, year-end\",\n",
       " \"LEAD ACCOUNTANT Highligt  QuickBooks, Peachtree, In-house Accounting Systems and Financial Reporting, MAS 90, FAR, WAWF, Great Plains, Integration Manager, FRx reporting.  Hyperion Workspace, Planning, Enterprise, Essbase, Schedules and Reports, Crystal Reports, MS Office with strong Excel skill Financial Accounting  Database Management  Budget Administration  Performance Reporting  Tax Preparation and Compliance  Forecasting/Trend Analysis  Strategic Planning  Cash-Flow Analysis  Variance Analysis  Sarbanes-Oxley Research and Compliance  Experience Lead Accountant November 2011 to Current Company Name i'/ City , State  Experience in various areas including, but not limited to: operating budgets, financial analysis/planning, financial statements and reporting, accounting policies and procedure, cash flow, taxes, auditing, and business process improvements.  Manage various areas in financial accounting, budgeting and financial analysis.  Execute qualitative and quantitative analysis techniques to minimize risks and liabilities.  Develop and implement system processes to achieve financial discipline and improve the overall efficiency of the organization.  Provide strong analytical skills, good relationship management and negotiation skills in liaising with various large corporate entities, financial institutions and various regulatory authorities.  Monitor and manage daily processes for multiple complex revenues streams.  Review contracts for new pricing schedules while researching and implementing new accounts into the accounting systems.  Provide subject matter expertise in analyzing revenue trends and apply corrective measures to risk findings.  Maintain ongoing communication with key stakeholders to include accounts, operations managers and new markets support teams for emerging accounting issues and recommend corrective actions.  Test internal controls for compliance in preventing fraud and improving accounting processes while meeting fill compliance with GAAP, Federal and State law.  Stay abreast of relevant new market events and new product in the pipeline.  Track daily activity of the firms new contracts and provide recommendations on financial related issues.  Maintain the accuracy and completeness of all deferred revenues and enforce timely revenue recognition.  Lead and develop methods and implement revenue test models for complex billing structures.  Perform trends analysis on revenues using quantitative methodology and forecast future contingencies.  Maintain the new revenue backlog inventories and periodically testing for appropriateness against new pricing conditions as well as accounting policy determinations.  Identify risky accounts in default and communicate to account managers for corrective actions.  © Prepare various ad hoc reports upon request by senior management requiring knowledge of general ledger and supporting sub- ledger  details.  ¢ Lead, support, and assist the external financial audit process. ¢ Prepare and maintain various incentive payment schedules for the prescriber program  Lead and support the billing automation effort while streamlining the monthly billing process for more prompt, accurate and timely billing of our customers. Improve cash flows by meeting targeted projections.  Senior Accountant September 2006 to October 2011 Company Name i City , State  Compiled and analyzed financial data used in the preparation of corporate financial statements.  © Provided support to business operations through analysis of key performance indicators and trends.  Maintained and supervised the various systems of internal controls over financial reporting while assessing and remediating deficiencies discovered through periodic testing making easier to reconcile accounts.  Collaborated, compiled, and prepared budgets and forecast operational activities.  Maintained general ledger and sub ledger accounts by posting and documenting financial journal entries.  Managed and maintained corporate closing schedules for periodic financial reporting.  Monitored and maintained fixed assets and depreciation schedules on ongoing basis.  Filed property taxes with county and ensured compliance of corporate sales taxes with Federal and State.  Lead team in the preparation and coordination of the financial audit process.  Reconciled bank statements and procured recommendations for all bank irregularities issues with key stake holders.  Staff Accountant   March 2006 to August 2006 Company Name 1'/ City , State  ¢ Performed monthly closing cycle, responsible for preparing, analyzing, reconciling and correcting financial statements and management reports for the homebuilding divisions.  Acted as the primary contact for operations’ personnel for any accounting-related matters.  Maintained the company’s systems of internal controls over financial reporting.  Posted financial statement entries; including reconciling and documented P & L re-classification entries.  Verified preliminary sales report and composed final corporate reporting,  Reviewed and reconciled inventory status and posted reconciling entries.  Prepared and corrected preliminary escrow analysis, including extensive analysis of escrow account allocation entries.  Performed analysis of direct profits.  Reviewed and created roll forward reports of builder's reserve runs summary.  Reconciled builder proceeds with mortgage proceeds.  Researched accounting procedures, policy and statures, including Sarbanes-Oxley, SEC compliance, IRS, state and local tax laws.  Education  BS : Accounting Business Administration , 2005 University of Maryland University College #/ City , State Accounting Business Administration CPA Candidate  Skills  accounting, Accounting Systems, ad, analytical skills, auditing, automation, billing, budgeting, budgets, Budget, business operations, business process, Cash-Flow, cash flow, closing, contracts, CPA, Crystal Reports, Database Management, Essbase, senior management, financial, Financial Accounting, financial analysis, financial analysis/planning, Financial Reporting, financial statements, fixed assets, Forecasting, general ledger, Great Plains, Hyperion, inventory, ledger, law, market, MAS 90, Excel, MS Office, negotiation, Enterprise, Peachtree, personnel, policies, pricing, processes, quantitative analysis, QuickBooks, reconciling, relationship management, reporting, researching, Research, sales, Sarbanes- Oxley, Strategic Planning, Tax Preparation, tax, taxes, Trend\"]"
      ]
     },
     "execution_count": 150,
     "metadata": {},
     "output_type": "execute_result"
    }
   ],
   "source": [
    "resumes_text"
   ]
  },
  {
   "cell_type": "markdown",
   "id": "61ccfa11-db31-4eb2-881a-dfc1e56ba295",
   "metadata": {},
   "source": [
    "# Task 1 Extract the Experience part of each resume"
   ]
  },
  {
   "cell_type": "code",
   "execution_count": 151,
   "id": "25ea8498-76cc-4dd5-8551-80c234c3d23d",
   "metadata": {},
   "outputs": [],
   "source": [
    "experience_title = ['EXPERIENCE ', 'Experience ', 'Work History ']"
   ]
  },
  {
   "cell_type": "code",
   "execution_count": 152,
   "id": "3053fdb8-c367-4b92-bcd2-acfd85557731",
   "metadata": {},
   "outputs": [],
   "source": [
    "# extract the part of the Experience\n",
    "\n",
    "experience_text = []\n",
    "\n",
    "for resume_text in resumes_text:\n",
    "\n",
    "    text = ''\n",
    "    split_resume_text = resume_text.split(experience_title[0], 1)\n",
    "\n",
    "    if len(split_resume_text) == 1:\n",
    "        # try Experience\n",
    "        for i in range(1,len(experience_title)):\n",
    "            if len(split_resume_text) != 1:\n",
    "                break\n",
    "            split_resume_text = resume_text.split(experience_title[i], 1)\n",
    "\n",
    "    # if the Experience is not found\n",
    "    if len(split_resume_text) == 1 or len(split_resume_text[1].strip()) < 10:\n",
    "        experience_text.append('No Experience Found')\n",
    "        continue\n",
    "\n",
    "    text = split_resume_text[1].strip()\n",
    "\n",
    "    # end part Experince\n",
    "    resume_title = [\"EXTRA\", \"EDUCATION\", \"SKILLS\", \"LANGUAGES\", \"CERTIFICATIONS\", \"ACHIEVEMENTS\", \"CONTACT\", \"OBJECTIVE\", \"PERSONAL\", \"QUALIFICATIONS\"\n",
    "                    \"ABOUT\", \"COURSE\", \"DETAILS\", \"PROJECTS\", \"INTERESTS\"]\n",
    "\n",
    "    for title in resume_title:\n",
    "        text = text.split(title)[0]\n",
    "\n",
    "    experience_text.append(text)\n",
    "\n"
   ]
  },
  {
   "cell_type": "code",
   "execution_count": 153,
   "id": "bfebf57b-0c58-49d7-b313-07576eed1ab7",
   "metadata": {
    "scrolled": true
   },
   "outputs": [
    {
     "name": "stdout",
     "output_type": "stream",
     "text": [
      "Company Name July 20\n",
      "Staff Accountant  Ja\n",
      "Accountant  January \n",
      "Company Name June 20\n",
      "Senior Accountant Ma\n",
      "Company Name City , \n",
      "October 2011  to  Au\n",
      "Accountant Aug 2015 \n",
      "Accountant IT , 02/2\n",
      "Lead Accountant Nove\n"
     ]
    }
   ],
   "source": [
    "# check for people who don't have experience\n",
    "\n",
    "for i in experience_text:\n",
    "    print(i[:20])"
   ]
  },
  {
   "cell_type": "markdown",
   "id": "e5a96166-6175-4b43-b469-7920cd5e6081",
   "metadata": {},
   "source": [
    "## Process the text "
   ]
  },
  {
   "cell_type": "code",
   "execution_count": 154,
   "id": "6cbb70e5-bfb1-4b52-986a-39229643061d",
   "metadata": {},
   "outputs": [],
   "source": [
    "import re\n",
    "from datetime import datetime\n",
    "\n",
    "current_year = datetime.now().year\n",
    "current_month = datetime.now().month"
   ]
  },
  {
   "cell_type": "code",
   "execution_count": 155,
   "id": "2eba18b7-6a24-48ce-a290-85b60da819d4",
   "metadata": {},
   "outputs": [],
   "source": [
    "def equi_space_text(text):\n",
    "\n",
    "    # Split the text into words\n",
    "    words = text.split()\n",
    "    \n",
    "    # Join the words with a single space between each word\n",
    "    spaced_text = ' '.join(words)\n",
    "\n",
    "    return spaced_text"
   ]
  },
  {
   "cell_type": "code",
   "execution_count": 156,
   "id": "e5ae8073-cbaf-4137-86bd-2f0d76e7fea5",
   "metadata": {},
   "outputs": [],
   "source": [
    "def process_text(text, resume_name):\n",
    "\n",
    "    total_year = 0\n",
    "    total_months = 0\n",
    "    \n",
    "    text_array = text.split(\"-\")\n",
    "\n",
    "    for i in range(len(text_array) - 1):\n",
    "\n",
    "        # Savita's Resume.pdf problem solve\n",
    "        # CV PUNITA SHAH solve\n",
    "        start_date = re.search(r'\\b\\d{2}/\\d{4}\\b', text_array[i].strip())\n",
    "        end_date = re.search(r'\\b\\d{2}/\\d{4}\\b', text_array[i + 1].strip()) \n",
    "\n",
    "        if start_date and end_date:\n",
    "            \n",
    "            start_date = start_date.group()\n",
    "            end_date = end_date.group()\n",
    "\n",
    "            if len(text_array[i].strip().split(start_date)[1]) == 0 and len(text_array[i + 1].strip().split(end_date)[0]) == 0:\n",
    "            \n",
    "                start_month, start_year = map(int, start_date.split('/'))\n",
    "                end_month, end_year = map(int, end_date.split('/'))\n",
    "                \n",
    "                # Convert start and end dates into datetime objects\n",
    "                start_datetime = datetime(start_year, start_month, 1)\n",
    "                end_datetime = datetime(end_year, end_month, 1)\n",
    "                \n",
    "                # Calculate the difference in years and months\n",
    "                num_years = end_year - start_year\n",
    "                num_months = end_month - start_month\n",
    "                \n",
    "                # Adjust for negative months\n",
    "                if num_months < 0:\n",
    "                    num_years -= 1\n",
    "                    num_months += 12\n",
    "                \n",
    "                total_year += num_years\n",
    "                total_months += num_months\n",
    "\n",
    "    print(f\"Total year of work experience of {resume_name} is \",\"{:.1f}\".format(total_year + total_months/12))"
   ]
  },
  {
   "cell_type": "code",
   "execution_count": 157,
   "id": "95d052c3-89e1-4ff1-ba54-6e0459bd2c0d",
   "metadata": {},
   "outputs": [],
   "source": [
    "def convert_date(text):\n",
    "\n",
    "    date_strs = re.findall(r'(?:\\b(?:jan|feb|mar|apr|may|jun|jul|aug|sep|oct|nov|dec) \\d{4}\\b|\\b(?:jan|feb|mar|apr|may|jun|jul|aug|sep|oct|nov|dec) \\d{4} - \\d{2}/\\d{4}\\b)', text)\n",
    "\n",
    "    for date_str in date_strs:\n",
    "    \n",
    "        # # Parse the date string\n",
    "        date_obj = datetime.strptime(date_str, '%b %Y')\n",
    "    \n",
    "        # # Format the date as \"MM/YYYY\"\n",
    "        formatted_date = date_obj.strftime('%m/%Y')\n",
    "\n",
    "        text = text.replace(date_str, formatted_date)\n",
    "        \n",
    "    return text"
   ]
  },
  {
   "cell_type": "code",
   "execution_count": 158,
   "id": "59dc2212-21a1-4227-8efe-637c90b6a8ff",
   "metadata": {},
   "outputs": [],
   "source": [
    "def months_mapping(text):\n",
    "    # Define a mapping of full month names to their abbreviations\n",
    "    month_mapping = {\n",
    "        'january': 'jan',\n",
    "        'february': 'feb',\n",
    "        'march': 'mar',\n",
    "        'april': 'apr',\n",
    "        'may': 'may',\n",
    "        'june': 'jun',\n",
    "        'july': 'jul',\n",
    "        'august': 'aug',\n",
    "        'september': 'sep',\n",
    "        'october': 'oct',\n",
    "        'november': 'nov',\n",
    "        'december': 'dec'\n",
    "    }\n",
    "        \n",
    "    # Compile regular expression pattern for full month names\n",
    "    pattern = re.compile(r'\\b(' + '|'.join(month_mapping.keys()) + r')\\b', re.IGNORECASE)\n",
    "    \n",
    "    # Replace full month names with abbreviations\n",
    "    text = pattern.sub(lambda x: month_mapping[x.group().lower()], text)\n",
    "    \n",
    "    return text"
   ]
  },
  {
   "cell_type": "code",
   "execution_count": 159,
   "id": "f075f0c7-0b1f-4cff-aa3b-b1f10a21ce99",
   "metadata": {},
   "outputs": [
    {
     "name": "stdout",
     "output_type": "stream",
     "text": [
      "Total year of work experience of 10554236.pdf is  20.3\n",
      "Total year of work experience of 10674770.pdf is  10.9\n",
      "Total year of work experience of 11163645.pdf is  31.8\n",
      "Total year of work experience of 11759079.pdf is  17.6\n",
      "Total year of work experience of 12065211.pdf is  21.7\n",
      "Total year of work experience of 12202337.pdf is  6.8\n",
      "Total year of work experience of 12338274.pdf is  3.8\n",
      "Total year of work experience of 12442909.pdf is  41.2\n",
      "Total year of work experience of 12780508.pdf is  13.2\n",
      "Total year of work experience of 12802330.pdf is  12.8\n"
     ]
    }
   ],
   "source": [
    "\n",
    "for i in range(len(experience_text)):\n",
    "\n",
    "    text = experience_text[i]\n",
    "    resume_name = resumes[i].split('datasets/resume/')[1] \n",
    "    \n",
    "    new_text = text.lower().strip()\n",
    "    \n",
    "    current_month_str = str(current_month)\n",
    "        \n",
    "    if current_month < 10:\n",
    "        current_month_str = \"0\" + str(current_month)\n",
    "        \n",
    "    new_text = new_text.replace('present', current_month_str + \"/\" + str(current_year))\n",
    "    new_text = new_text.replace('current', current_month_str + \"/\" + str(current_year))\n",
    "    new_text = new_text.replace('till date', current_month_str + \"/\" + str(current_year))\n",
    "    new_text = new_text.replace('to', '-')\n",
    "    pattern = r'[^a-z0-9/+\\-.@]'\n",
    "        \n",
    "    # Find all matches\n",
    "    new_text = re.sub(pattern, ' ', new_text)\n",
    "    \n",
    "    new_text = equi_space_text(new_text)\n",
    "    \n",
    "    new_text = months_mapping(new_text)\n",
    "    new_text = convert_date(new_text)\n",
    "\n",
    "    process_text(new_text, resume_name)"
   ]
  },
  {
   "cell_type": "markdown",
   "id": "8d4d384c-084a-4368-84be-c2f6b94a2b79",
   "metadata": {},
   "source": [
    "# Last year of Education"
   ]
  },
  {
   "cell_type": "markdown",
   "id": "cc2b2fb7-66b2-4677-9d18-4d0163994a6b",
   "metadata": {},
   "source": [
    "### extract the education part of resume"
   ]
  },
  {
   "cell_type": "code",
   "execution_count": 160,
   "id": "352691e7-5a2b-4a1a-95a1-c08c143ad512",
   "metadata": {},
   "outputs": [],
   "source": [
    "education_title = ['EDUCATION ', 'Education ', 'Qualification ', 'Academic ', 'ACADEMIC ', 'QUALIFICATION ', \"QUALIFICATIONS \", \"COURSE \"]"
   ]
  },
  {
   "cell_type": "code",
   "execution_count": 164,
   "id": "023e0a5c-ecad-4889-840d-1e41cd11aad1",
   "metadata": {},
   "outputs": [],
   "source": [
    "# extract the part of the Education\n",
    "\n",
    "education_text = []\n",
    "\n",
    "for resume_text in resumes_text:\n",
    "\n",
    "    text = ''\n",
    "    split_resume_text = resume_text.split(education_title[0], 1)\n",
    "\n",
    "    for i in range(1,len(education_title)):\n",
    "        if len(split_resume_text) == 1 or (len(resume_text.split(education_title[i], 1)) > 1 and len(split_resume_text[1]) < len(resume_text.split(education_title[i], 1)[1])):\n",
    "            split_resume_text = resume_text.split(education_title[i], 1)\n",
    "\n",
    "    # if the Experience is not found\n",
    "    if len(split_resume_text) == 1 or len(split_resume_text[1].strip()) < 10:\n",
    "        education_text.append('No Eduaction Found')\n",
    "        continue\n",
    "    \n",
    "    text = split_resume_text[1].strip()\n",
    "    \n",
    "    # end part Experince\n",
    "    resume_title = [\"EXTRA\", \"SKILLS\", \"LANGUAGES\", \"CERTIFICATIONS\", \"ACHIEVEMENTS\", \"CONTACT\", \"OBJECTIVE\", \"PERSONAL\",\n",
    "                    \"ABOUT\", \"DETAILS\", \"PROJECTS\", \"INTERESTS\", 'EXPERIENCE ', 'Work History ', 'Experience ']\n",
    "\n",
    "    for title in resume_title:\n",
    "        new_text = text.split(title)[0].strip()\n",
    "\n",
    "        if len(new_text) == 0:\n",
    "\n",
    "            split_resume_text = text.split(education_title[0], 1)\n",
    "            \n",
    "            for i in range(1,len(education_title)):\n",
    "                if len(split_resume_text) == 1 or (len(resume_text.split(education_title[i], 1)) > 1 and len(split_resume_text[1]) < len(resume_text.split(education_title[i], 1)[1])):\n",
    "                    split_resume_text = resume_text.split(education_title[i], 1)\n",
    "\n",
    "    education_text.append(text)\n",
    "\n"
   ]
  },
  {
   "cell_type": "code",
   "execution_count": 165,
   "id": "d673b507-4b85-4f65-8402-911878690597",
   "metadata": {},
   "outputs": [
    {
     "name": "stdout",
     "output_type": "stream",
     "text": [
      "Northern Maine Commu\n",
      "Bachelor of Science \n",
      "Computer Application\n",
      "EMORY UNIVERSITY, Go\n",
      "Bachelor of Business\n",
      "Master of Business A\n",
      "2006  Vidyasagar Uni\n",
      "Bachelor of Science \n",
      "Bachelor of Science \n",
      "BS : Accounting Busi\n"
     ]
    }
   ],
   "source": [
    "# check for people who don't have education\n",
    "\n",
    "for i in education_text:\n",
    "    print(i[:20])"
   ]
  },
  {
   "cell_type": "markdown",
   "id": "59b08377-088a-481f-8a11-3a84d75db01f",
   "metadata": {},
   "source": [
    "## Process the text"
   ]
  },
  {
   "cell_type": "code",
   "execution_count": 166,
   "id": "2ec0a744-f3fc-4e44-9ec5-a4bac1d5ba0c",
   "metadata": {},
   "outputs": [
    {
     "name": "stdout",
     "output_type": "stream",
     "text": [
      "The Last year of Education of 10554236.pdf is: 2005\n",
      "The Last year of Education of 10674770.pdf is: 2024\n",
      "The Last year of Education of 11163645.pdf is: 2008\n",
      "The Last year of Education of 11759079.pdf is: 2007\n",
      "The Last year of Education of 12065211.pdf is: 2015\n",
      "The Last year of Education of 12202337.pdf is: 2011\n",
      "The Last year of Education of 12338274.pdf is: 2006\n",
      "The Last year of Education not found for resume 12442909.pdf\n",
      "The Last year of Education of 12780508.pdf is: 2010\n",
      "The Last year of Education of 12802330.pdf is: 2005\n"
     ]
    }
   ],
   "source": [
    "\n",
    "for i in range(len(education_text)):\n",
    "\n",
    "    text = education_text[i]\n",
    "    resume_name = resumes[i].split('datasets/resume/')[1] \n",
    "    \n",
    "    new_text = text.lower().strip()\n",
    "    \n",
    "    current_month_str = str(current_month)\n",
    "        \n",
    "    if current_month < 10:\n",
    "        current_month_str = \"0\" + str(current_month)\n",
    "        \n",
    "    new_text = new_text.replace('present', current_month_str + \"/\" + str(current_year))\n",
    "    new_text = new_text.replace('current', current_month_str + \"/\" + str(current_year))\n",
    "    new_text = new_text.replace('till date', current_month_str + \"/\" + str(current_year))\n",
    "    \n",
    "    pattern = r'[^a-z0-9/+\\-.@]'\n",
    "        \n",
    "    # Find all matches\n",
    "    new_text = re.sub(pattern, ' ', new_text)\n",
    "    \n",
    "    new_text = equi_space_text(new_text)\n",
    "\n",
    "    years = re.findall(r'(?:19|20)\\d{2}', new_text)\n",
    "\n",
    "    # Convert years to integers\n",
    "    years = [int(year) for year in years]\n",
    "\n",
    "    if len(years) != 0:\n",
    "        # Find the maximum year\n",
    "        max_year = max(years)\n",
    "        \n",
    "        print(f\"The Last year of Education of {resume_name} is:\", max_year)\n",
    "\n",
    "    else:\n",
    "        print(f\"The Last year of Education not found for resume {resume_name}\")"
   ]
  },
  {
   "cell_type": "code",
   "execution_count": null,
   "id": "27d8d07d-7644-4891-b9b7-886d8d153fa5",
   "metadata": {},
   "outputs": [],
   "source": []
  }
 ],
 "metadata": {
  "kernelspec": {
   "display_name": "Python 3 (ipykernel)",
   "language": "python",
   "name": "python3"
  },
  "language_info": {
   "codemirror_mode": {
    "name": "ipython",
    "version": 3
   },
   "file_extension": ".py",
   "mimetype": "text/x-python",
   "name": "python",
   "nbconvert_exporter": "python",
   "pygments_lexer": "ipython3",
   "version": "3.11.7"
  },
  "widgets": {
   "application/vnd.jupyter.widget-state+json": {
    "state": {},
    "version_major": 2,
    "version_minor": 0
   }
  }
 },
 "nbformat": 4,
 "nbformat_minor": 5
}

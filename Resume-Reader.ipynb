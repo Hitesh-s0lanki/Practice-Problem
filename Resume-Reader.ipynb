{
 "cells": [
  {
   "cell_type": "markdown",
   "id": "70a5417b-8e39-44e8-a6ad-8355194bf89c",
   "metadata": {},
   "source": [
    "1. Get the Experience part text from the Image "
   ]
  },
  {
   "cell_type": "code",
   "execution_count": 17,
   "id": "1f96b884-fb9f-473e-97b1-499f1eea2bbd",
   "metadata": {},
   "outputs": [],
   "source": [
    "import os\n",
    "from pdf2image import convert_from_path\n",
    "import pytesseract"
   ]
  },
  {
   "cell_type": "markdown",
   "id": "8d5fec2a-ffe2-4b7d-afcb-8daade7ccaa1",
   "metadata": {},
   "source": [
    "List the Resume"
   ]
  },
  {
   "cell_type": "code",
   "execution_count": 10,
   "id": "8d3ac2a9-0a34-46cc-854d-79bee1c0df52",
   "metadata": {},
   "outputs": [
    {
     "data": {
      "text/plain": [
       "['datasets/resume/CV PUNITA SHAH.pdf',\n",
       " 'datasets/resume/Manav Nirmal_Resume.pdf',\n",
       " 'datasets/resume/Mokshit Jain Resume.pdf',\n",
       " 'datasets/resume/Niraj_Resumev .pdf',\n",
       " 'datasets/resume/Resume Siddharth Jain 1804.pdf',\n",
       " 'datasets/resume/resume.pdf',\n",
       " \"datasets/resume/Savita's Resume.pdf\",\n",
       " 'datasets/resume/VighneshChejara.pdf']"
      ]
     },
     "execution_count": 10,
     "metadata": {},
     "output_type": "execute_result"
    }
   ],
   "source": [
    "# Get the current directory\n",
    "current_directory = os.getcwd()\n",
    "\n",
    "# List directories in the current directory\n",
    "resumes = [\"datasets/resume/\" + d for d in os.listdir(current_directory + \"/datasets/resume\")]\n",
    "resumes"
   ]
  },
  {
   "cell_type": "markdown",
   "id": "9a0e1ead-9316-4a02-839f-5413e853f1c8",
   "metadata": {},
   "source": [
    "## using OCR read the text "
   ]
  },
  {
   "cell_type": "code",
   "execution_count": 11,
   "id": "2fc56904-da10-4023-8f09-1ba912401639",
   "metadata": {},
   "outputs": [],
   "source": [
    "# Replace 'input_file.pdf' with the path to your PDF file\n",
    "resume_pages = []\n",
    "\n",
    "for pdf_file in resumes:\n",
    "    pages = convert_from_path(pdf_file)\n",
    "\n",
    "    resume_pages.append(pages)"
   ]
  },
  {
   "cell_type": "code",
   "execution_count": 18,
   "id": "01a785da-91a1-496f-b2e2-d3cbd40b3f3c",
   "metadata": {},
   "outputs": [],
   "source": [
    "def extract_text_from_image(image):\n",
    "    text = pytesseract.image_to_string(image)\n",
    "    return text"
   ]
  },
  {
   "cell_type": "code",
   "execution_count": 26,
   "id": "0f94f23d-004f-4ad3-aa2c-2f46a7ac0207",
   "metadata": {},
   "outputs": [],
   "source": [
    "resumes_text = []\n",
    "\n",
    "for pages in resume_pages:\n",
    "    extracted_text = \"\"\n",
    "    for page in pages:\n",
    "        text = extract_text_from_image(page)\n",
    "        extracted_text += text.replace(\"\\n\",' ') + \"  \" \n",
    "    resumes_text.append(extracted_text.strip())            "
   ]
  },
  {
   "cell_type": "code",
   "execution_count": 27,
   "id": "6726e096-9992-4406-9fc5-88a421eb8ec4",
   "metadata": {},
   "outputs": [
    {
     "data": {
      "text/plain": [
       "['PUNITA SHAH  TEAM LEAD (IT SUPPORT AND OPERATIONS)  CONTACTS  +91-97730 20235 shahpunita84@gmail.com  10, Navjivan Park, Near Thakorji Nagar, Civil Hospital Road, Nanakwada, Valsad 396 001, Gujarat, India  SKILLS  e Application Support e Production Support e JIRA  e AWS-CloudWatch e ServiceNow  e ActiveCollab  e Problem Solving  e@ Client Communication  LANGUAGES e English  e Guarati  e Hindi PERSONAL DETAILS  Date of birth 23/01/1984 Nationality  Indian  Marital status Single  ABOUT ME  5 Years of Experience of working as Team Lead of Application Support and Operatins Team  Interested in similar kind of Roles as well as seeking for any challenging opportunity in QA/BA or Data Analysis in reputed IT Firm  Ready to relocate anywhere in India.  WORK EXPERIENCE  Team Lead - Web Grabbing Support & Operations, Emsure Limited, SURAT Jan 2020 - Present  Client - Thomson Reuters, London  Roles and Responsibilities:  Responsible for End to End Support Services to the News & Editorial Bureau of Thomson Reuters.  Defect Management and Resolution using JIRA Case and Incident Management using Service Now.  Business Process Improvement using AWS Cloud-Watch  Overall Team Management Including - Shift Scheduling, Task Allocation, Reviewing, Taking Follow up, Service Delivery, Client Meetings Issue Resolution,  Strategic Planning  Team Lead - Web Grabbing Support & Operations, Varee Infotech, SURAT Oct 2016 - Dec 2019  Client - Thomson Reuters, London Roles and Responsibilities: Same as Emsure Limited  Business Analyst, DRC Infotech, SURAT Dec 2015 - Apr 2016  Clients: Various Diamond Firms of Surat.  Business Domain: CMS and E-Commerce Websites and Mobile Apps for the Diamond Industries.  Platforms: Wordpress, Magento, Core PHP, Open-Cart, Shopify.  Roles and Responsibilities:  End to End Client Communications,  Requirement Gathering  Involvement with Development Team for distinct phases of SDLC,  Involvement in Client Testing and approval  Visiting Lecturer / Assistant Professor, Govt. Collage of Engineering, VALSAD Sep 2009 - Aug 2010  1 Year of Academic Experience of teaching following subjects to First Year Engineering students.  CH,  Data Structures,  Number Systems,  Graph Theory.  EDUCATION  M.C.A., Veer Narmad South Gujarat University, SURAT 2009  B.Sc. (Mathematics), Veer Narmad South Gujarat University, SURAT 2006  COURSE  DST (Diploma in Software Testing), Seed Infotech, Pune. Apr 2013 - May 2014',\n",
       " 'Manav Nirmal  Article Trainee — Valuations  EDUCATION  The Institute of Chartered Accountants of India CA Intermediate — May 2022 — 451/800 CA Foundation - December 2020 - 267/400  The Maharaja Sayqjirao University of Baroda Bachelor of Commerce — May 2023 - 7.5 CGPA  Rosary High School (Vadodara, Gujarat) Class 12th - March 2020 - 83.87%  A.V.Jasani Vidyamandir (Rajkot, Gujarat) Class 10th - March 2018 — 87.33%  WORK EXPERIENCE  Transaction Square LLP (Mumbai) - September 2022 to Present  During my exploration of the valuations field for nearly 1 year and 6 months, | have the experience of working in various key assignments across diverse industries, some of which | would like to highlight are as follows:  ]  Valuation of preference shares of a company who is a dedicated sub- contractor of a leading automotive brake parts manufacturer supplying to major OEMs. Also, it is a part of one of India’s most reputed and leading business houses.  Assisted a listed company for determining the share exchange ratio for potential merger with an unlisted group company operating in the dyes and pigments industry.  Valued a listed company in the yarn manufacturing space for advisory regarding the share exchange ratio for the purpose of potential acquisition of another listed company operating in the same business.  Involved in the valuation of an unlisted company in the forging industry for the purpose of giving potential exit to the minority stakeholders pursuant to the provisions of section 230(11) of the Companies Act, 2013.  Prepared a research report on ‘Indian Logistics Industry’ incorporating the analysis of 10 Indian logistics companies comprising of both established as well as start-up players.  Assisted in the valuation of group entities operating in the fertilizer industry for the purpose of fund infusion and potential group consolidation.  Valuation of CCPS of a Company engaged in the business of providing CDMO services for sterile injectable products for the purpose of fresh issue of CCPS to some foreign and resident institutional investors.  OBJECTIVE  Seeking an _ industrial — training opportunity in an organization of repute where | can capitalize my current experience and _ learnings along with strengthening my core technical and practical capabilities.  SKILLS  oWell-versed with Microsoft office tools - Excel, Word and PowerPoint  o Experienced in using tools like Capital |Q, VCCEdge and Private Circle  o Market Research o Report Writing o Financial Modelling  LANGUAGES KNOWN  i) Hindi ii) Gujarati ili) English  CERTIFICATIONS  o Information Technology - ICAI o Orientation Course - ICAI  ACHIEVEMENTS  oSchool level winner in essay competition organized by TATA Building India  o Secured 15 position in Open Rajkot Talent Search Examination organized by Saraswati Institute  DATE OF BIRTH 20th October 2003  CONTACT o Phone: 9624753339  o E-mail: manavnirmal333@qmail.com  o Linkedin: https://www.linkedin.com/in/man av-nirmal/',\n",
       " \"MOKSHIT JAIN  @ +91 84510 38637 mokshitjainn@gmail.com f Mokshit Jain 9 Mumbai, Maharashtra CAREER OBJECTIVE  To accomplish a challenging position in a reputed organization to showcase and enhance my skills and to contribute to the growth of the organization concurrently.  QUALIFICATIONS e CA Intermediate - May 2023 (Both Groups) - 444/800 e CA Foundation - December 2021 - 275/400 e Pursuing B.Com. from H.R .College of Commerce & Economics (2021-2024) e HSC (12th) - H.R. College of Commerce & Economics (2021) - 90.67 % e SSC (10th) - S.K.I. Jain High School - 93.20 % EXPERIENCE  CNK & ASSOCIATES LLP - Article Assisstant (4st August, 2023 - Till Date)  Statutory Audits of various Private Limited and Section 8 companies, trusts and finalisation of their Annual Financial Statements.  Tax Audits of Clients ranging from Listed Companies, Private Limited & Section 8 Companies to  Sole Proprietors.  Corporate Taxation, filing of Income Tax Returns of Companies and Individuals and filing Responses to Income Tax Notices.  Worked on the Financial Statements of Companies from industries like Insurance, FMCG, Gifting, Beverages and Healthcare.  SKILLS & ACHIEVEMENTS  e Completed 90 hours’ Orientation Course conducted by ICAI.  e Completed 90 hours of training on Information Technology conducted by ICAI.  e Good Knowledge of MS Excel, MS PowerPoint, and TALLY ERP 9.  e Achieved 1st Rank in 10th in School in a Batch of 157 students.  e Organized Inter-Collegiate TechFest ‘INNOV-8’ at H.R. College with participants from all over Mumbai.  PERSONAL DETAILS  e Date of Birth -15th December 2003.  e Father's Name - Atul P. Jain  e¢ Mother's Name - Shilpa A.Jain  e Languages known -English, Hindi, Marwari & Marathi. e Hobbies - Chess, Badminton and Sketching.  I hereby solemnly declare the the above mentioned information is correct to the best of my knowledge. [Mokshit Jain]\",\n",
       " \"Niraj Solanki | Article Assistant  Mumbai, Maharas'!  Work Experience  htra & +91 9930032332 & Nirajsolanki729@gmail.com  SBR & Co Chartered Accountants ( Mumbai ) March 2022 - Present  > Preparation of Actual Financials Statement (Balance, P&L, Cash flow ) as per applicable financial reporting framework, that includes Profit and Loss reporting and financial reporting of 10+ private entity. Also prepared Provisional and Projected financials.  > Executed Internal Audit and Statutory audit of 15+ private companies, LLPs and Insurance Companies; Starting from determing the Audit procedures to finalization including preparation of Auditor's Report along with CARO Reporting, Limited Review, and Tax Audit.  > Filing of 30+ TDS return on quarterly basis including rectification of the same, 40+ ITR returns, 5+ GST returns, 5+ GSTR 9 (annual return) of entities inlcuding MCA filings.  > Checking whether Financial statements are prepared in accordance with the compliance of the respective IND AS. Practical working experience on IND AS 109, 115, 12, 2, 19.  > Analysed financial statements, performed ratios and variance analysis to identify crucial relationships, Sales analysis  Experience and projection, Dupont Analysis, confirm business understanding and arrive at logical solution. > Experience of single handedly handling most of the Audit, Starting from Risk Assessment procedures, to applying Further Audit procedures, assessing/identifying the Risk of Material Misstatement and correcting the same to the finalising the Audit. > Assisted In Statutory Audit of SBI bank Branch and Concurrent Audit of Federal bank, role played - Verification of the loan files, Checking compliance with proper documentation before sanctioning of advances, Filing LFAR. > Assisted in framing Standard Operating Procedure (SOPs) and Risk and Control Matrix (RACM) to improve operational efficiency and Controls. > Miscellaneous assignments - Due Diligence Of Private Company, Incorporation of Pvt Ltd. Co., Change in Constitution of LLP, GST Reconciliation, TAN application, Maitainted Books of Accounts of LLP, Application for LTDS including negotiation for the cash price. > Technical, analytical and soft skills (Microsoft Office Suite), Financial Analysis, Time Management, Multi-tasking, Other skills Interpersonal Communication, Problem Solving, Critical Thinking, Client Handling and Business Knowledge, attained  Leadership, Learning new skills, Adaptable to new things.  Extra Curricular activities  > Encouraged Article to participate actively on Taking session and share some key lesson for Overall learning and growth.  Committee member at SBR (Session taken by me on technical and fundamental analysis in equity market, and dicussion on audit observation came &Co accross during Audit ) Sports > Won First Prize in Sudoku Solving and Chess playing competition in School.  Area of Interest/  Finance / Accounts  Professional and  Work looking for  > Working in these area requires application and developing a skill set focused on analytical/critical thinking and decision making skills, which are the activites which interest me the most. By working in these area it will allow me to demonstrate my proficiency in accounting, maths, critical thinking, communication skills and interest in Finance.  Academic Qualificati  Year Degree Institute/ College Percentage Remarks  2022 (June) BCOM Mumbai University (Saraf Col.) 9.40 CGPI -  2021 (Nov) CA Inter Group II ICAI 64.50% |Scored 70+ in 2 subjects  2020 (Nov) CA Inter Group | ICAI 72.75% _|Scored 80 in Acc. and Exemption in all  2019 (Nov) CA Foundation ICAI 64.00% _|Scored 85 in Acc. and Exemption in 2 2019 HSC (Class XII- Comm) [Thakur College of Science & comm 85.50% |Scored 95+ in Accounts and Maths 2017 SSC (Class X) Swami Vivek. High School 77% Scored 90 in Maths\",\n",
       " '—Name  Email ID Contact Number LinkedIn Address  : Siddharth Jain : jainsidd 1804 2 +91 8000616518  : https://www.linkedin.com/in/siddharth-Jain  : RVG Educational Foundation (Hostel), Andheri West, Mumbai, Maharashtra 400058  @gmail.com  ACADEMIC QUALIFICATIONS  Year Degree/Examination Board/Institute Marks/Percentage May 2022 CA Intermediate . . 480/800 Institute of Chartered Accountants of India July 2021 CA Foundation 282/400 Mar 2020 Class XII . ; 84.60% Rajasthan Board of Secondary Education Mar 2018 Class X 91%  WORK EXPERIENCE Articleship firm - GMJ & CO (Current)  Audit, Direct Tax, and Other  POSITIONS OF RESPONSIBILITY  = Conducted thorough Statutory Audit for a leading manufacturing, Railway Parts manufacturing Private Company, ensuring compliance with regulatory standards  = I autonomously handled all facets of auditing and assurance, from devising audit strategies and meticulous planning to execute vouching verification. My role involved an in-depth understanding of critical business process ,and | systematically prepared work paper adhering to Firm’s Quality Standard for diverse financial areas like Fixed Asset, Intangible Asset, Trade receivables, cash & bank, Long-Term Borrowing ,Trade Payable, Statutory Dues, Deferred Tax, Gratuity, Revenue, Purchase, Employee-Related and other Expenses. Moreover, I ensured strict compliance with disclosure requirement, Segment Reporting and other regulatory Standards, showcasing a commitment to maintain high-Quality Standard throughout the entire auditing engagement.  = Drafted Process Notes & carried Walkthroughs & performed procedures for carrying out Test of Control.  = Established and determine TDS liability by comprehending TDS sections, reconciled return and filed periodic TDS Return.  = Played a pivotal role in the successful completion of Tax audits for a major manufacturing company, and a Construction LLP Firm guaranteeing accuracy and adherence to financial regulations.  = Analyzed financial Statement, performed ratios and variance analysis to identify crucial Relationship, confirm business understanding and arrive at logical solution.  = Independently prepared various reconciliations for determination of Income Tax liability of Companies, Firm, LLP and HNI.  Commercial and  RVG Shark Tank| = Lead the coordination and logistical planning for the Rvg Shark Tank event, overseeing arrangement and managing participant entries. Audit = Autonomously supervise, direct the two engagement team member and reviewed their finding and  EXTRA CURRICULAR ACHIEVEMENTS  reconciliation during statutory audit.  = Completed the PCSD course organized by RVG Educatuon Foundation. This intensive program enhanced my Interpersonal skill, presentation skill, and personality, providing a strong foundation for effective  = Langua  Aonitenie communications. = Proficient in Inline four wheel skating and Roller skating = Actively involved as a member of the Hospitality Department in Event of RVG Shark Tank organized by Extra RVG Education Foundation. Curricular  OTHER INFORMATION = Technical Skills: MS Office, Tally Prime, Tally ERP, Speqta, Genius  = Participated in an inter-school Soccer Competition.  ges Known: English & Hindi',\n",
       " 'HITESH SOLANKI!  SOFTWARE ENGINEER  BA Linkedin PROFILE  Responsible and motivated student ready to apply education in the workplace. Offers excellent technical abilities with software and applications, ability to handle challenging work, and excellent time management skills. Motivated student seeking internship in Software Engineering to gain hands-on experience. Outgoing and friendly with strong drive to succeed.  SKILLS  CONTACT  & +91 9004713782 W&% hiteshsolanki4623@gmail.com  9 B/710, Riddhi Siddhi apt, Mumbai, India  ® Portfolio ® Github </> LeetCode  EDUCATION  2022 - 2025 MUMBAIUNIVERSITY e Degree (Bsc) in Information  Technology ¢ GPA: 9.9 / 10.0  2021 JAI HIND COLLEGE, MUMBAI  e XII - Maharashtra Board 82.33%  2019  SETH JUGGULAL PODDAR ACADEMY, MUMBAI ¢ X-ICSE 85%  LANGUAGES  e English (Fluent) ¢ Hindi  PROJECTS  CodeTech : https://codetech- new.vercel.app  Thread-clone: https://thread- gamma.vercel.app/  Ai-saas : https://ai-saas-ruby- theta.vercel.app/  White Board : https://miro-app- psi.vercel.app/  E-commerce App: https://github.com/Hitesh- sOlanki/amazon-flutter  Machine Learning And Deep Learning  e Strong understanding of machine learning concepts and algorithms, including supervised learning, unsupervised learning, and reinforcement learning.  e Proficient in feature engineering, model evaluation, and hyperparameter tuning techniques to optimize model performance.  e Experienced in implementing machine learning algorithms using TensorFlow, scikit-learn, and other libraries to solve real-world problems in domains such as natural language processing, computer vision, and recommendation systems. Expertise in deep learning architectures such as convolutional neural networks (CNNs), recurrent neural networks (RNNs), and deep autoencoders.Skilled in advanced deep learning techniques like transfer learning, generative adversarial networks (GANs), and sequence-to- sequence models.Experienced in applying deep learning to tasks like image classification, object detection, text generation, and time series forecasting  Web Scraping  e Proficient in web scraping techniques using libraries such as BeautifulSoup, Scrapy, or Selenium.  e Skilled in extracting data from various sources on the web, including static HTML pages, dynamic JavaScript-rendered content, and APIs.  e Experienced in parsing and processing scraped data into structured formats like CSV, JSON, or databases for further analysis or integration into machine learning pipelines.  Full Stack (Web and App) Development  « Comprehensive understanding of both frontend and _ backend development technologies.  e Proficient in utilizing Redis as a caching layer to improve the performance and scalability of web applications  e Expertise in designing and developing RESTful and GraphQL APIs to facilitate seamless communication between frontend and backend systems.  e Proficient in building efficient and scalable web applications using Next,js, a popular React framework.Experienced in server-side rendering (SSR), static site generation (SSG), and client-side rendering (CSR) with Nextjs.Skilled in optimizing Next.js applications for performance and SEO.  e Strong proficiency in data modeling, querying, and database administration  Languages and tools  e C, C++, Java, Python, Javascript, Web Assembly, Typescript, bash, R',\n",
       " \"Savita Kumari  Web Developer  savitabns25@gmail.com Jamshedpur, India  live:.cid.1171ea0ed3d1ca94  uw Ooo  stackoverflow.com/users/14375706/savita  WORK EXPERIENCE  Asp.net Developer Galaxy Technologies 08/2019 - 03/2020 Achievements/Tasks  - Working in Asp.Net, Sql Server  Surat, Gujrat  Trainee Xcellence IT  12/2018 - 05/2019 Training in Asp.net, Asp.Net MVC, Sql Server, NopCommerce  Surat, Gujrat  EDUCATION  Masters Of Computer Applications Parul University  2017-2019 Vadodara, Gujrat  Bachelors Of Information Technology Kolhan Univesity  2013-2016 Jamshedpur, Jharkhand  To utilizing my Skill and Knowledge to be the best of my abilities and contribute Positively to my personal growth as well as growth of the organization.  ) 7004268998 in linkedin.com/in/savita-singh-34b011181 © github.com/SavitaSingh25  instagram.com/savi_singh_25  SKILLS C3 3 ES  PERSONAL PROJECTS Product Shop Application (03/2021 - 05/2021)  — It's ae-Commerce platform with a full fledged like shopping card checkout system. We'll have a product review and rating system. Customers will be able to view all their orders, will have an admin area where admin can manage users, products, order and so on.  — Uses : React.js, Node.js, Express.js, Redux, JWT, Rest API, mongoDB etc.  — https://productshopapplication.herokuapp.com  socially-communication (02/2021 - 04/2021) — Itis a small social network. User can register, login and create profile with many Fields like education, job experience.  — Uses : Node.js, React.js, Express.js, Redux, JWT, Rest API , mongoDB etc.  - https://github.com/SavitaSingh25/socially-communication  LANGUAGES  English Hindi Professional Working Proficiency Full Professional Proficiency  INTERESTS  Web Designe FullStack Development\",\n",
       " 'Vighnesh Chejara  About Me  p> Gender: Male Aim >» DOB: 24/04/2004 >» Designation: Student » Course: Bsc.IT > Year: SY >» College: Ghanshyamdas Saraf College, Malad(W)  « Seeking a challenging position where | can utilize my skills in research, critical thinking, and communication.  ¢ lam eager to contribute to a dynamic team and further develop my expertise.  * Passionate, motivated, and ready to Education make a positive impact.  My Contact 10th(2020)  » St. Xaviers High School, Borivali(East) E-Mail: e Percentage: 86% Vighnesh2464004@gmail.com 12th(2022)  Phone: 9987259052  » Ghanshyamdas Saraf College  Skills e Percentage: 89% Cc C++ Python Java Degree » Ghanshyamdas Saraf College GR (iB O°: | e Sem -1 e Sem -2 e Sem -3 CGPA-9.8 CGPA-9.9 CGPA-9.9 HTML5 css Javascript PHP OC OF Os GOF%  MainAchievements  SQL MySQL C#  VB la y a Y a. Y Essay writing(3rd Place)- 12/08/2015 83% 84% 88% 73% Quiz Competition(3rd Place)- 15/02/17  Best Student- 03/04/2018  Canva CapCut Best Composer- 15/08/2018 Elocution Competition(Ist Prize)- 15/08/2018 Y Om” World Scholar’s Cup(Gold Medal)- 31/08/2019 2nd Rank From Sem-1 to Sem-3. Winner of Inter-Collegiate Aavishkar Hobbies Competition held by Mumbai University- ° SYMCLINE, Creativity Declaration e Music ° Reading Books I do hereby declare that the above statements mentioned in my e Cricket resume are true and correct to the best of my knowledge and  belief.']"
      ]
     },
     "execution_count": 27,
     "metadata": {},
     "output_type": "execute_result"
    }
   ],
   "source": [
    "resumes_text"
   ]
  },
  {
   "cell_type": "markdown",
   "id": "61ccfa11-db31-4eb2-881a-dfc1e56ba295",
   "metadata": {},
   "source": [
    "# Task 1 Extract the Experience part of each resume"
   ]
  },
  {
   "cell_type": "code",
   "execution_count": 32,
   "id": "25ea8498-76cc-4dd5-8551-80c234c3d23d",
   "metadata": {},
   "outputs": [],
   "source": [
    "experience_title = ['EXPERIENCE ', 'Experience ']"
   ]
  },
  {
   "cell_type": "code",
   "execution_count": 33,
   "id": "3053fdb8-c367-4b92-bcd2-acfd85557731",
   "metadata": {},
   "outputs": [],
   "source": [
    "# extract the part of the Experience\n",
    "\n",
    "experience_text = []\n",
    "\n",
    "for resume_text in resumes_text:\n",
    "\n",
    "    text = ''\n",
    "    split_resume_text = resume_text.split(experience_title[0], 1)\n",
    "\n",
    "    if len(split_resume_text) == 1:\n",
    "        # try Experience\n",
    "        split_resume_text = resume_text.split(experience_title[1], 1)\n",
    "\n",
    "    # if the Experience is not found\n",
    "    if len(split_resume_text) == 1 or len(split_resume_text[1].strip()) < 10:\n",
    "        experience_text.append('No Experience Found')\n",
    "        continue\n",
    "\n",
    "    text = split_resume_text[1].strip()\n",
    "\n",
    "    # end part Experince\n",
    "    resume_title = [\"EXTRA\", \"EDUCATION\", \"SKILLS\", \"LANGUAGES\", \"CERTIFICATIONS\", \"ACHIEVEMENTS\", \"CONTACT\", \"OBJECTIVE\", \"PERSONAL\", \"QUALIFICATIONS\"\n",
    "                    \"ABOUT\", \"COURSE\", \"DETAILS\", \"PROJECTS\", \"INTERESTS\"]\n",
    "\n",
    "    for title in resume_title:\n",
    "        text = text.split(title)[0]\n",
    "\n",
    "    experience_text.append(text)\n",
    "\n"
   ]
  },
  {
   "cell_type": "code",
   "execution_count": 39,
   "id": "bfebf57b-0c58-49d7-b313-07576eed1ab7",
   "metadata": {
    "scrolled": true
   },
   "outputs": [
    {
     "name": "stdout",
     "output_type": "stream",
     "text": [
      "Team Lead - Web Grab\n",
      "Transaction Square L\n",
      "CNK & ASSOCIATES LLP\n",
      "htra & +91 993003233\n",
      "Articleship firm - G\n",
      "No Experience Found\n",
      "Asp.net Developer Ga\n",
      "No Experience Found\n"
     ]
    }
   ],
   "source": [
    "# check for people who don't have experience\n",
    "\n",
    "for i in experience_text:\n",
    "    print(i[:20])"
   ]
  },
  {
   "cell_type": "markdown",
   "id": "e5a96166-6175-4b43-b469-7920cd5e6081",
   "metadata": {},
   "source": [
    "## Process the text "
   ]
  },
  {
   "cell_type": "code",
   "execution_count": 42,
   "id": "6cbb70e5-bfb1-4b52-986a-39229643061d",
   "metadata": {},
   "outputs": [],
   "source": [
    "import re\n",
    "from datetime import datetime\n",
    "\n",
    "current_year = datetime.now().year\n",
    "current_month = datetime.now().month"
   ]
  },
  {
   "cell_type": "code",
   "execution_count": 84,
   "id": "2eba18b7-6a24-48ce-a290-85b60da819d4",
   "metadata": {},
   "outputs": [],
   "source": [
    "def equi_space_text(text):\n",
    "\n",
    "    # Split the text into words\n",
    "    words = text.split()\n",
    "    \n",
    "    # Join the words with a single space between each word\n",
    "    spaced_text = ' '.join(words)\n",
    "\n",
    "    return spaced_text\n"
   ]
  },
  {
   "cell_type": "code",
   "execution_count": 94,
   "id": "e5ae8073-cbaf-4137-86bd-2f0d76e7fea5",
   "metadata": {},
   "outputs": [],
   "source": [
    "def process_text(text, resume_name):\n",
    "\n",
    "    total_year = 0\n",
    "    total_months = 0\n",
    "    \n",
    "    text_array = text.split(\"-\")\n",
    "\n",
    "    for i in range(len(text_array) - 1):\n",
    "\n",
    "        # Savita's Resume.pdf problem solve\n",
    "        # CV PUNITA SHAH solve\n",
    "        start_date = re.search(r'\\b\\d{2}/\\d{4}\\b', text_array[i].strip())\n",
    "        end_date = re.search(r'\\b\\d{2}/\\d{4}\\b', text_array[i + 1].strip()) \n",
    "\n",
    "        if start_date and end_date:\n",
    "            \n",
    "            start_date = start_date.group()\n",
    "            end_date = end_date.group()\n",
    "\n",
    "            if len(text_array[i].strip().split(start_date)[1]) == 0 and len(text_array[i + 1].strip().split(end_date)[0]) == 0:\n",
    "            \n",
    "                start_month, start_year = map(int, start_date.split('/'))\n",
    "                end_month, end_year = map(int, end_date.split('/'))\n",
    "                \n",
    "                # Convert start and end dates into datetime objects\n",
    "                start_datetime = datetime(start_year, start_month, 1)\n",
    "                end_datetime = datetime(end_year, end_month, 1)\n",
    "                \n",
    "                # Calculate the difference in years and months\n",
    "                num_years = end_year - start_year\n",
    "                num_months = end_month - start_month\n",
    "                \n",
    "                # Adjust for negative months\n",
    "                if num_months < 0:\n",
    "                    num_years -= 1\n",
    "                    num_months += 12\n",
    "                \n",
    "                total_year += num_years\n",
    "                total_months += num_months\n",
    "\n",
    "    print(f\"Total year of work experience of {resume_name} is \",\"{:.1f}\".format(total_year + total_months/12))"
   ]
  },
  {
   "cell_type": "code",
   "execution_count": 67,
   "id": "95d052c3-89e1-4ff1-ba54-6e0459bd2c0d",
   "metadata": {},
   "outputs": [],
   "source": [
    "def convert_date(text):\n",
    "\n",
    "    date_strs = re.findall(r'(?:\\b(?:jan|feb|mar|apr|may|jun|jul|aug|sep|oct|nov|dec) \\d{4}\\b|\\b(?:jan|feb|mar|apr|may|jun|jul|aug|sep|oct|nov|dec) \\d{4} - \\d{2}/\\d{4}\\b)', text)\n",
    "\n",
    "    for date_str in date_strs:\n",
    "    \n",
    "        # # Parse the date string\n",
    "        date_obj = datetime.strptime(date_str, '%b %Y')\n",
    "    \n",
    "        # # Format the date as \"MM/YYYY\"\n",
    "        formatted_date = date_obj.strftime('%m/%Y')\n",
    "\n",
    "        text = text.replace(date_str, formatted_date)\n",
    "        \n",
    "    return text"
   ]
  },
  {
   "cell_type": "code",
   "execution_count": 75,
   "id": "59dc2212-21a1-4227-8efe-637c90b6a8ff",
   "metadata": {},
   "outputs": [],
   "source": [
    "def months_mapping(text):\n",
    "    # Define a mapping of full month names to their abbreviations\n",
    "    month_mapping = {\n",
    "        'january': 'jan',\n",
    "        'february': 'feb',\n",
    "        'march': 'mar',\n",
    "        'april': 'apr',\n",
    "        'may': 'may',\n",
    "        'june': 'jun',\n",
    "        'july': 'jul',\n",
    "        'august': 'aug',\n",
    "        'september': 'sep',\n",
    "        'october': 'oct',\n",
    "        'november': 'nov',\n",
    "        'december': 'dec'\n",
    "    }\n",
    "        \n",
    "    # Compile regular expression pattern for full month names\n",
    "    pattern = re.compile(r'\\b(' + '|'.join(month_mapping.keys()) + r')\\b', re.IGNORECASE)\n",
    "    \n",
    "    # Replace full month names with abbreviations\n",
    "    text = pattern.sub(lambda x: month_mapping[x.group().lower()], text)\n",
    "    \n",
    "    return text"
   ]
  },
  {
   "cell_type": "code",
   "execution_count": 95,
   "id": "f075f0c7-0b1f-4cff-aa3b-b1f10a21ce99",
   "metadata": {},
   "outputs": [
    {
     "name": "stdout",
     "output_type": "stream",
     "text": [
      "Total year of work experience of CV PUNITA SHAH.pdf is  8.7\n",
      "Total year of work experience of Manav Nirmal_Resume.pdf is  1.6\n",
      "Total year of work experience of Mokshit Jain Resume.pdf is  0.7\n",
      "Total year of work experience of Niraj_Resumev .pdf is  2.1\n",
      "Total year of work experience of Resume Siddharth Jain 1804.pdf is  0.0\n",
      "Total year of work experience of resume.pdf is  0.0\n",
      "Total year of work experience of Savita's Resume.pdf is  1.0\n",
      "Total year of work experience of VighneshChejara.pdf is  0.0\n"
     ]
    }
   ],
   "source": [
    "\n",
    "for i in range(len(experience_text)):\n",
    "\n",
    "    text = experience_text[i]\n",
    "    resume_name = resumes[i].split('datasets/resume/')[1] \n",
    "    \n",
    "    new_text = text.lower().strip()\n",
    "    \n",
    "    current_month_str = str(current_month)\n",
    "        \n",
    "    if current_month < 10:\n",
    "        current_month_str = \"0\" + str(current_month)\n",
    "        \n",
    "    new_text = new_text.replace('present', current_month_str + \"/\" + str(current_year))\n",
    "    new_text = new_text.replace('till date', current_month_str + \"/\" + str(current_year))\n",
    "    new_text = new_text.replace('to', '-')\n",
    "    pattern = r'[^a-z0-9/+\\-.@]'\n",
    "        \n",
    "    # Find all matches\n",
    "    new_text = re.sub(pattern, ' ', new_text)\n",
    "    \n",
    "    new_text = equi_space_text(new_text)\n",
    "    \n",
    "    new_text = months_mapping(new_text)\n",
    "    new_text = convert_date(new_text)\n",
    "\n",
    "    process_text(new_text, resume_name)"
   ]
  },
  {
   "cell_type": "code",
   "execution_count": 77,
   "id": "8b7caa11-4992-413b-b51d-ec12ce41a092",
   "metadata": {},
   "outputs": [],
   "source": [
    "# Savita's Resume.pdf problem solve\n",
    "# CV PUNITA SHAH solve\n",
    "# Hitesh and Vignesh Problem solve\n",
    "# Manav Nirmal resume problem solve"
   ]
  },
  {
   "cell_type": "code",
   "execution_count": null,
   "id": "6bd3b955-1950-456e-b8c1-92f0a4bc3905",
   "metadata": {},
   "outputs": [],
   "source": []
  },
  {
   "cell_type": "code",
   "execution_count": null,
   "id": "352691e7-5a2b-4a1a-95a1-c08c143ad512",
   "metadata": {},
   "outputs": [],
   "source": []
  }
 ],
 "metadata": {
  "kernelspec": {
   "display_name": "Python 3 (ipykernel)",
   "language": "python",
   "name": "python3"
  },
  "language_info": {
   "codemirror_mode": {
    "name": "ipython",
    "version": 3
   },
   "file_extension": ".py",
   "mimetype": "text/x-python",
   "name": "python",
   "nbconvert_exporter": "python",
   "pygments_lexer": "ipython3",
   "version": "3.11.7"
  },
  "widgets": {
   "application/vnd.jupyter.widget-state+json": {
    "state": {},
    "version_major": 2,
    "version_minor": 0
   }
  }
 },
 "nbformat": 4,
 "nbformat_minor": 5
}

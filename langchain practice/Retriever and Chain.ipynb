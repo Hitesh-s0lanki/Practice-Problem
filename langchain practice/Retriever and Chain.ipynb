{
 "cells": [
  {
   "cell_type": "code",
   "execution_count": 22,
   "id": "ccd52496",
   "metadata": {
    "ExecuteTime": {
     "end_time": "2024-04-18T04:32:39.722988Z",
     "start_time": "2024-04-18T04:32:39.214334Z"
    },
    "run_control": {
     "marked": false
    }
   },
   "outputs": [
    {
     "data": {
      "text/plain": [
       "[[Document(page_content='EDUCATIONHITESHSOLANKI\\nSOFTWARE ENGINEER\\nCONTACT\\n+91 9004713782\\nhiteshsolanki4623@gmail.com\\nB/710, Riddhi Siddhi apt,\\nMumbai, India\\nPortfolio\\nMUMBAIUNIVERSITY\\nDegree (Bsc) in Information\\nTechnology\\nGPA: 9.9 / 10.02022 - 2025\\n2021\\nEnglish (Fluent)\\nHindiLANGUAGESSKILLSPROFILE\\nResponsible and motivated student ready to apply education in the workplace.\\nOffers excellent technical abilities with software and applications, ability to\\nhandle challenging work, and excellent time management skills. Motivated\\nstudent seeking internship in Software Engineering to gain hands-on\\nexperience. Outgoing and friendly with strong drive to succeed.\\nMachine Learning And  Deep Learning\\nWeb ScrapingStrong understanding of machine learning concepts and algorithms,\\nincluding supervised learning, unsupervised learning, and reinforcement\\nlearning.\\nProficient in feature engineering, model evaluation, and hyperparameter\\ntuning techniques to optimize model performance.\\nExperienced in implementing machine learning algorithms using\\nTensorFlow, scikit-learn, and other libraries to solve real-world problems in\\ndomains such as natural language processing, computer vision, and\\nrecommendation systems.\\nExpertise in deep learning architectures such as convolutional neural\\nnetworks (CNNs), recurrent neural networks (RNNs), and deep\\nautoencoders.Skilled in advanced deep learning techniques like transfer\\nlearning, generative adversarial networks (GANs), and sequence-to-\\nsequence models.Experienced in applying deep learning to tasks like\\nimage classification, object detection, text generation, and time series\\nforecasting\\nComprehensive understanding of both frontend and backend\\ndevelopment technologies.\\nProficient in utilizing Redis as a caching layer to improve the performance\\nand scalability of web applications\\nExpertise in designing and developing RESTful and GraphQL APIs to\\nfacilitate seamless communication between frontend and backend\\nsystems.\\nProficient in building efficient and scalable web applications using Next.js,\\na popular React framework.Experienced in server-side rendering (SSR),\\nstatic site generation (SSG), and client-side rendering (CSR) with\\nNext.js.Skilled in optimizing Next.js applications for performance and SEO.\\nStrong proficiency in data modeling, querying, and database\\nadministrationProficient in web scraping techniques using libraries such as BeautifulSoup,\\nScrapy, or Selenium.\\nSkilled in extracting data from various sources on the web, including static\\nHTML pages, dynamic JavaScript-rendered content, and APIs.\\nExperienced in parsing and processing scraped data into structured formats\\nlike CSV, JSON, or databases for further analysis or integration into machine\\nlearning pipelines.JAI HIND COLLEGE, MUMBAI\\nXII - Maharashtra Board  \\n82.33%\\nSETH JUGGULAL PODDAR\\nACADEMY, MUMBAI2019\\nX - ICSE 85%\\nFull Stack (Web and App) Development\\nPROJECTS\\nCodeTech : https://codetech-\\nnew.vercel.app\\nThread-clone: https://thread-\\ngamma.vercel.app/\\nAi-saas : https://ai-saas-ruby-\\ntheta.vercel.app/\\nWhite Board : https://miro-app-\\npsi.vercel.app/\\nE-commerce App:\\nhttps://github.com/Hitesh-\\ns0lanki/amazon-flutterLeetCodeGithubLinkedln\\nLanguages and tools\\nC, C++, Java, Python, Javascript, Web Assembly, Typescript, bash , R', metadata={'source': 'resume.pdf', 'page': 0})],\n",
       " [Document(page_content=\"📞+91 9930032332 🖂  Nirajsolanki 729@gmail .com\\nMarch 2022 - Present\\n⮚\\n⮚\\n⮚\\n⮚\\n⮚\\n⮚\\n⮚\\n⮚\\n⮚\\nOther skills \\nattained ⮚\\n Committee \\nmember at SBR \\n& Co⮚\\nSports⮚\\nFinance / \\nAccounts⮚\\nPercentage Remarks\\n9.40 CGPI -\\n64.50% Scored 70+ in 2 subjects\\n72.75% Scored 80 in Acc.  and Exemption in all\\n64.00% Scored 85 in Acc.  and Exemption in 2\\n85.50% Scored 95+ in Accounts and Maths\\n77% Scored 90 in Maths Encouraged Article to participate actively on Taking session and share some key lesson for Overall learning and growth. \\n(Session taken by me on technical and fundamental analysis in equity market, and dicussion on audit observation came \\naccross during Audit )Niraj Solanki I Article Assistant \\nMumbai, Maharashtra \\nWork Experience \\nSBR & Co Chartered Accountants ( Mumbai )\\nExperiencePreparation of Actual Financials  Statement (Balance, P&L, Cash flow ) as  per applicable financial reporting framework, \\nthat includes Profit and Loss reporting and financial reporting of 10+ private entity . Also prepared Provisional  and \\nProjected financials.\\nExecuted Internal Audit  and Statutory audit  of 15+  private companies, LLPs   and Insurance Companies ; Starting from \\ndeterming the Audit procedures to finalization including preparation of Auditor's Report along with CARO Reporting, \\nLimited Review, and Tax Audit .\\n Checking whether Financial statements are prepared in accordance  with the compliance of the respective IND AS . \\nPractical working experience on  IND AS 109, 115, 12, 2, 19.\\nAnalysed financial  statements , performed ratios  and variance analysis  to identify crucial relationships , Sales analysis \\nand projection , Dupont Analysis, confirm business understanding  and arrive at logical solution .\\nExperience of single handedly handling most of the Audit, Starting from Risk Assessment procedures , to applying \\nFurther Audit procedures, assessing/identifying the Risk of Material Misstatement and correcting the same  to the \\nfinalising the Audit.\\nAssisted  In Statutory Audit of SBI bank  Branch and Concurrent Audit of Federal bank , role played - Verification of the \\nloan files , Checking compliance with proper documentation before sanctioning of advances, Filing LFAR.\\nAssisted in framing Standard Operating Procedure  (SOPs) and Risk and Control Matrix  (RACM) to improve operational \\nefficiency and Controls.\\nMiscellaneous assignments  - Due Diligence Of Private Company, Incorporation of Pvt Ltd. Co., Change in Constitution of \\nLLP, GST Reconciliation, TAN application, Maitainted Books of Accounts of LLP,  Application for LTDS including \\nnegotiation for the cash price. \\nTechnical, analytical and soft skills  (Microsoft Office Suite), Financial Analysis, Time Management, Multi-tasking, \\nInterpersonal Communication, Problem Solving, Critical Thinking, Client Handling and Business Knowledge, \\nLeadership, Learning new skills, Adaptable to new things.\\nExtra Curricular activities\\n2021 (Nov) CA Inter Group II ICAIWon First Prize in  Sudoku Solving  and Chess playing competition in School.\\nArea of Interest/ Work looking for\\nWorking in these area requires application and developing a skill set focused on analytical/critical thinking  and decision \\nmaking skills,  which are the activites which interest me the most. By working in these area it  will allow me to \\ndemonstrate my proficiency in accounting, maths,  critical thinking, communication skills and  interest in Finance.\\nProfessional and Academic Qualification\\nYear Degree Institute/ CollegeFiling of 30+ TDS return on quarterly basis including rectification of the same, 40+ ITR returns, 5+ GST returns, 5+ GSTR \\n9 (annual return) of entities inlcuding MCA filings.\\n2019 HSC (Class XII - Comm) Thakur College of Science & comm\\n2017 SSC (Class X) Swami Vivek. High School2020 (Nov) CA Inter Group I ICAI\\n2019 (Nov) CA Foundation ICAI2022 (June) BCOM Mumbai University (Saraf Col.)\", metadata={'source': 'Niraj_Resumev .pdf', 'page': 0})],\n",
       " [Document(page_content='Phone: 9987259052About Me\\nEducationVighnesh Chejara\\nAim\\nSeeking a challenging position where\\nI can utilize my skills in research,\\ncritical thinking, and communication. \\nI am eager to contribute to a\\ndynamic team and further develop\\nmy expertise.\\nPassionate, motivated, and ready to\\nmake a positive impact.\\nMy Contact\\nSkills\\nMain AchievementsE-Mail:\\nVighnesh2464004@gmail.comGender: Male\\nDOB: 24/04/2004\\nDesignation: Student\\nCourse: Bsc.IT\\nYear: SY\\nCollege: Ghanshyamdas Saraf College, Malad(W)\\nSt. Xaviers High School, Borivali(East)10th(2020)\\nPercentage: 86%\\nGhanshyamdas Saraf College12th(2022)\\nPercentage: 89%\\nGhanshyamdas Saraf CollegeDegree\\nSem -1 Sem -2 Sem -3\\nCGPA-9.8 CGPA-9.9 CGPA-9.9\\nEssay writing(3rd Place)- 12/08/2015\\nQuiz Competition(3rd Place)- 15/02/17\\nBest Student- 03/04/2018\\nBest Composer- 15/08/2018\\nElocution Competition(1st Prize)- 15/08/2018\\nWorld Scholar’s Cup(Gold Medal)- 31/08/2019\\n2nd Rank From Sem-1 to Sem-3.\\nWinner of Inter-Collegiate Aavishkar\\nCompetition held by Mumbai University- 90% 75% 60% 60%\\n88% 86% 81% 87%\\n83% 84% 88% 73%C C++ Python Java\\nHTML5\\nSQLCSS\\nMySQLJavascriptPHP\\nC# VB\\n96% 90%Canva CapCut\\nHobbies\\nExploring Creativity\\nMusic\\nReading Books\\nCricketDeclaration\\nI do hereby declare that the above statements mentioned in my\\nresume are true and correct to the best of my knowledge and\\nbelief.', metadata={'source': 'VighneshChejara.pdf', 'page': 0})]]"
      ]
     },
     "execution_count": 22,
     "metadata": {},
     "output_type": "execute_result"
    }
   ],
   "source": [
    "from langchain_community.document_loaders import PyPDFLoader\n",
    "\n",
    "documents = []\n",
    "\n",
    "pdfs = [\"resume.pdf\", \"Niraj_Resumev .pdf\", \"VighneshChejara.pdf\"]\n",
    "\n",
    "for pdf in pdfs:\n",
    "    loader = PyPDFLoader(pdf)\n",
    "    docs = loader.load()\n",
    "    documents.append(docs)\n",
    "\n",
    "documents"
   ]
  },
  {
   "cell_type": "code",
   "execution_count": 23,
   "id": "f305508e",
   "metadata": {
    "ExecuteTime": {
     "end_time": "2024-04-18T04:32:44.768930Z",
     "start_time": "2024-04-18T04:32:44.761344Z"
    }
   },
   "outputs": [],
   "source": [
    "import os\n",
    "from dotenv import load_dotenv\n",
    "load_dotenv()\n",
    "\n",
    "os.environ['OPENAI_API_KEY']=os.getenv(\"OPENAI_API_KEY\")"
   ]
  },
  {
   "cell_type": "code",
   "execution_count": 26,
   "id": "fb6a4b04",
   "metadata": {
    "ExecuteTime": {
     "end_time": "2024-04-18T04:39:41.207733Z",
     "start_time": "2024-04-18T04:36:58.739444Z"
    }
   },
   "outputs": [
    {
     "name": "stdout",
     "output_type": "stream",
     "text": [
      "········\n"
     ]
    }
   ],
   "source": [
    "import os\n",
    "from getpass import getpass\n",
    "\n",
    "os.environ[\"AI21_API_KEY\"] = getpass()"
   ]
  },
  {
   "cell_type": "code",
   "execution_count": 27,
   "id": "e60a79d1",
   "metadata": {
    "ExecuteTime": {
     "end_time": "2024-04-18T04:41:21.100421Z",
     "start_time": "2024-04-18T04:41:18.922579Z"
    }
   },
   "outputs": [
    {
     "data": {
      "text/plain": [
       "[Document(page_content='EDUCATIONHITESHSOLANKI\\nSOFTWARE ENGINEER\\nCONTACT\\n+91 9004713782\\nhiteshsolanki4623@gmail.com\\nB/710, Riddhi Siddhi apt,\\nMumbai, India\\nPortfolio\\nMUMBAIUNIVERSITY\\nDegree (Bsc) in Information\\nTechnology\\nGPA: 9.9 / 10.02022 - 2025\\n2021\\nEnglish (Fluent)\\nHindiLANGUAGESSKILLSPROFILE\\nResponsible and motivated student ready to apply education in the workplace.', metadata={'source': 'resume.pdf', 'page': 0, 'source_type': 'non_english'}),\n",
       " Document(page_content='Offers excellent technical abilities with software and applications, ability to\\nhandle challenging work, and excellent time management skills.', metadata={'source': 'resume.pdf', 'page': 0, 'source_type': 'normal_text_short'}),\n",
       " Document(page_content='Motivated\\nstudent seeking internship in Software Engineering to gain hands-on\\nexperience.\\n\\nOutgoing and friendly with strong drive to succeed.', metadata={'source': 'resume.pdf', 'page': 0, 'source_type': 'normal_text_short'}),\n",
       " Document(page_content='Machine Learning And  Deep Learning\\nWeb ScrapingStrong understanding of machine learning concepts and algorithms,\\nincluding supervised learning, unsupervised learning, and reinforcement\\nlearning.', metadata={'source': 'resume.pdf', 'page': 0, 'source_type': 'normal_text_short'}),\n",
       " Document(page_content='Proficient in feature engineering, model evaluation, and hyperparameter\\ntuning techniques to optimize model performance.', metadata={'source': 'resume.pdf', 'page': 0, 'source_type': 'normal_text_short'}),\n",
       " Document(page_content='Experienced in implementing machine learning algorithms using\\nTensorFlow, scikit-learn, and other libraries to solve real-world problems in\\ndomains such as natural language processing, computer vision, and\\nrecommendation systems.', metadata={'source': 'resume.pdf', 'page': 0, 'source_type': 'normal_text_short'}),\n",
       " Document(page_content='Expertise in deep learning architectures such as convolutional neural\\nnetworks (CNNs), recurrent neural networks (RNNs), and deep\\nautoencoders.', metadata={'source': 'resume.pdf', 'page': 0, 'source_type': 'normal_text_short'}),\n",
       " Document(page_content='Skilled in advanced deep learning techniques like transfer\\nlearning, generative adversarial networks (GANs), and sequence-to-\\nsequence models.', metadata={'source': 'resume.pdf', 'page': 0, 'source_type': 'normal_text_short'}),\n",
       " Document(page_content='Experienced in applying deep learning to tasks like\\nimage classification, object detection, text generation, and time series\\nforecasting\\nComprehensive understanding of both frontend and backend\\ndevelopment technologies.\\n\\nProficient in utilizing Redis as a caching layer to improve the performance\\nand scalability of web applications\\nExpertise in designing and developing RESTful and GraphQL APIs to\\nfacilitate seamless communication between frontend and backend\\nsystems.', metadata={'source': 'resume.pdf', 'page': 0, 'source_type': 'normal_text'}),\n",
       " Document(page_content='Proficient in building efficient and scalable web applications using Next.js,\\na popular React framework.\\n\\nExperienced in server-side rendering (SSR),\\nstatic site generation (SSG), and client-side rendering (CSR) with\\nNext.js.\\n\\nSkilled in optimizing Next.js applications for performance and SEO.', metadata={'source': 'resume.pdf', 'page': 0, 'source_type': 'normal_text_short'}),\n",
       " Document(page_content='Strong proficiency in data modeling, querying, and database\\nadministrationProficient in web scraping techniques using libraries such as BeautifulSoup,\\nScrapy, or Selenium.', metadata={'source': 'resume.pdf', 'page': 0, 'source_type': 'normal_text_short'}),\n",
       " Document(page_content='Skilled in extracting data from various sources on the web, including static\\nHTML pages, dynamic JavaScript-rendered content, and APIs.\\n\\nExperienced in parsing and processing scraped data into structured formats\\nlike CSV, JSON, or databases for further analysis or integration into machine\\nlearning pipelines.', metadata={'source': 'resume.pdf', 'page': 0, 'source_type': 'normal_text'}),\n",
       " Document(page_content='JAI HIND COLLEGE, MUMBAI\\nXII - Maharashtra Board  \\n82.33%\\nSETH JUGGULAL PODDAR\\nACADEMY, MUMBAI2019\\nX - ICSE 85%\\nFull Stack (Web and App) Development\\nPROJECTS\\nCodeTech : https://codetech-\\nnew.vercel.app\\nThread-clone: https://thread-\\ngamma.vercel.app/\\nAi-saas : https://ai-saas-ruby-\\ntheta.vercel.app/\\nWhite Board : https://miro-app-\\npsi.vercel.app/\\nE-commerce App:\\nhttps://github.com/Hitesh-\\ns0lanki/amazon-flutterLeetCodeGithubLinkedln\\nLanguages and tools\\nC, C++, Java, Python, Javascript, Web Assembly, Typescript, bash , R', metadata={'source': 'resume.pdf', 'page': 0, 'source_type': 'non_english'}),\n",
       " Document(page_content='📞+91 9930032332 🖂  Nirajsolanki 729@gmail .com\\nMarch 2022 - Present\\n⮚\\n⮚\\n⮚\\n⮚\\n⮚\\n⮚\\n⮚\\n⮚\\n⮚\\nOther skills \\nattained ⮚\\n Committee \\nmember at SBR \\n& Co⮚\\nSports⮚\\nFinance / \\nAccounts⮚\\nPercentage Remarks\\n9.40 CGPI -\\n64.50% Scored 70+ in 2 subjects\\n72.75% Scored 80 in Acc.', metadata={'source': 'Niraj_Resumev .pdf', 'page': 0, 'source_type': 'non_english'}),\n",
       " Document(page_content='and Exemption in all\\n64.00% Scored 85 in Acc.\\n\\nand Exemption in 2\\n85.50% Scored 95+ in Accounts and Maths\\n77% Scored 90 in Maths Encouraged Article to participate actively on Taking session and share some key lesson for Overall learning and growth.\\n\\n(Session taken by me on technical and fundamental analysis in equity market, and dicussion on audit observation came \\naccross during Audit )', metadata={'source': 'Niraj_Resumev .pdf', 'page': 0, 'source_type': 'normal_text'}),\n",
       " Document(page_content='Niraj Solanki I Article Assistant \\nMumbai, Maharashtra \\nWork Experience \\nSBR & Co Chartered Accountants ( Mumbai )\\nExperiencePreparation of Actual Financials  Statement (Balance, P&L, Cash flow ) as  per applicable financial reporting framework, \\nthat includes Profit and Loss reporting and financial reporting of 10+ private entity .\\n\\nAlso prepared Provisional  and \\nProjected financials.', metadata={'source': 'Niraj_Resumev .pdf', 'page': 0, 'source_type': 'normal_text'}),\n",
       " Document(page_content=\"Executed Internal Audit  and Statutory audit  of 15+  private companies, LLPs   and Insurance Companies ; Starting from \\ndeterming the Audit procedures to finalization including preparation of Auditor's Report along with CARO Reporting, \\nLimited Review, and Tax Audit .\", metadata={'source': 'Niraj_Resumev .pdf', 'page': 0, 'source_type': 'normal_text_short'}),\n",
       " Document(page_content='Checking whether Financial statements are prepared in accordance  with the compliance of the respective IND AS .\\n\\nPractical working experience on  IND AS 109, 115, 12, 2, 19.', metadata={'source': 'Niraj_Resumev .pdf', 'page': 0, 'source_type': 'normal_text_short'}),\n",
       " Document(page_content='Analysed financial  statements , performed ratios  and variance analysis  to identify crucial relationships , Sales analysis \\nand projection , Dupont Analysis, confirm business understanding  and arrive at logical solution .', metadata={'source': 'Niraj_Resumev .pdf', 'page': 0, 'source_type': 'normal_text_short'}),\n",
       " Document(page_content='Experience of single handedly handling most of the Audit, Starting from Risk Assessment procedures , to applying \\nFurther Audit procedures, assessing/identifying the Risk of Material Misstatement and correcting the same  to the \\nfinalising the Audit.', metadata={'source': 'Niraj_Resumev .pdf', 'page': 0, 'source_type': 'normal_text_short'}),\n",
       " Document(page_content='Assisted  In Statutory Audit of SBI bank  Branch and Concurrent Audit of Federal bank , role played - Verification of the \\nloan files , Checking compliance with proper documentation before sanctioning of advances, Filing LFAR.', metadata={'source': 'Niraj_Resumev .pdf', 'page': 0, 'source_type': 'normal_text_short'}),\n",
       " Document(page_content='Assisted in framing Standard Operating Procedure  (SOPs) and Risk and Control Matrix  (RACM) to improve operational \\nefficiency and Controls.', metadata={'source': 'Niraj_Resumev .pdf', 'page': 0, 'source_type': 'normal_text_short'}),\n",
       " Document(page_content='Miscellaneous assignments  - Due Diligence Of Private Company, Incorporation of Pvt Ltd. Co., Change in Constitution of \\nLLP, GST Reconciliation, TAN application, Maitainted Books of Accounts of LLP,  Application for LTDS including \\nnegotiation for the cash price.', metadata={'source': 'Niraj_Resumev .pdf', 'page': 0, 'source_type': 'normal_text_short'}),\n",
       " Document(page_content='Technical, analytical and soft skills  (Microsoft Office Suite), Financial Analysis, Time Management, Multi-tasking, \\nInterpersonal Communication, Problem Solving, Critical Thinking, Client Handling and Business Knowledge, \\nLeadership, Learning new skills, Adaptable to new things.', metadata={'source': 'Niraj_Resumev .pdf', 'page': 0, 'source_type': 'normal_text_short'}),\n",
       " Document(page_content='Extra Curricular activities\\n2021 (Nov) CA Inter Group II ICAIWon First Prize in  Sudoku Solving  and Chess playing competition in School.', metadata={'source': 'Niraj_Resumev .pdf', 'page': 0, 'source_type': 'normal_text_short'}),\n",
       " Document(page_content='Area of Interest/ Work looking for\\nWorking in these area requires application and developing a skill set focused on analytical/critical thinking  and decision \\nmaking skills,  which are the activites which interest me the most.\\n\\nBy working in these area it  will allow me to \\ndemonstrate my proficiency in accounting, maths,  critical thinking, communication skills and  interest in Finance.', metadata={'source': 'Niraj_Resumev .pdf', 'page': 0, 'source_type': 'normal_text'}),\n",
       " Document(page_content='Professional and Academic Qualification\\nYear Degree Institute/ CollegeFiling of 30+ TDS return on quarterly basis including rectification of the same, 40+ ITR returns, 5+ GST returns, 5+ GSTR \\n9 (annual return) of entities inlcuding MCA filings.', metadata={'source': 'Niraj_Resumev .pdf', 'page': 0, 'source_type': 'normal_text_short'}),\n",
       " Document(page_content='2019 HSC (Class XII - Comm) Thakur College of Science & comm\\n2017 SSC (Class X) Swami Vivek.\\n\\nHigh School2020 (Nov) CA Inter Group I ICAI\\n2019 (Nov) CA Foundation ICAI2022 (June) BCOM Mumbai University (Saraf Col.)', metadata={'source': 'Niraj_Resumev .pdf', 'page': 0, 'source_type': 'normal_text_short'}),\n",
       " Document(page_content='Phone: 9987259052About Me\\nEducationVighnesh Chejara\\nAim\\nSeeking a challenging position where\\nI can utilize my skills in research,\\ncritical thinking, and communication.\\n\\nI am eager to contribute to a\\ndynamic team and further develop\\nmy expertise.\\n\\nPassionate, motivated, and ready to\\nmake a positive impact.', metadata={'source': 'VighneshChejara.pdf', 'page': 0, 'source_type': 'non_english'}),\n",
       " Document(page_content='My Contact\\nSkills\\nMain AchievementsE-Mail:\\nVighnesh2464004@gmail.comGender: Male\\nDOB: 24/04/2004\\nDesignation: Student\\nCourse: Bsc.', metadata={'source': 'VighneshChejara.pdf', 'page': 0, 'source_type': 'non_english'}),\n",
       " Document(page_content='IT\\nYear: SY\\nCollege: Ghanshyamdas Saraf College, Malad(W)', metadata={'source': 'VighneshChejara.pdf', 'page': 0, 'source_type': 'normal_text_short'}),\n",
       " Document(page_content='St. Xaviers High School, Borivali(East)10th(2020)\\nPercentage: 86%\\nGhanshyamdas Saraf College12th(2022)\\nPercentage: 89%\\nGhanshyamdas Saraf CollegeDegree\\nSem -1', metadata={'source': 'VighneshChejara.pdf', 'page': 0, 'source_type': 'non_english'}),\n",
       " Document(page_content='Sem -2', metadata={'source': 'VighneshChejara.pdf', 'page': 0, 'source_type': 'normal_text_short'}),\n",
       " Document(page_content='Sem -3\\nCGPA-9.8', metadata={'source': 'VighneshChejara.pdf', 'page': 0, 'source_type': 'non_english'}),\n",
       " Document(page_content='CGPA-9.9 CGPA-9.9\\nEssay writing(3rd Place)- 12/08/2015\\nQuiz Competition(3rd Place)-', metadata={'source': 'VighneshChejara.pdf', 'page': 0, 'source_type': 'normal_text_short'}),\n",
       " Document(page_content='15/02/17\\nBest Student- 03/04/2018\\nBest Composer- 15/08/2018\\nElocution Competition(1st Prize)- 15/08/2018\\nWorld Scholar’s', metadata={'source': 'VighneshChejara.pdf', 'page': 0, 'source_type': 'non_english'}),\n",
       " Document(page_content='Cup(Gold Medal)- 31/08/2019\\n2nd Rank From Sem-1 to Sem-3.\\n\\nWinner of Inter-Collegiate Aavishkar\\nCompetition held by Mumbai University- 90% 75% 60% 60%\\n88% 86% 81% 87%\\n83% 84% 88% 73%C C++', metadata={'source': 'VighneshChejara.pdf', 'page': 0, 'source_type': 'normal_text_short'}),\n",
       " Document(page_content='Python Java\\nHTML5\\nSQLCSS\\nMySQLJavascriptPHP\\nC# VB\\n96% 90%Canva CapCut\\nHobbies\\nExploring Creativity\\nMusic\\nReading Books\\nCricketDeclaration\\nI do hereby declare that the above statements mentioned in my\\nresume are true and correct to the best of my knowledge and\\nbelief.', metadata={'source': 'VighneshChejara.pdf', 'page': 0, 'source_type': 'non_english'})]"
      ]
     },
     "execution_count": 27,
     "metadata": {},
     "output_type": "execute_result"
    }
   ],
   "source": [
    "from langchain_ai21 import AI21SemanticTextSplitter\n",
    "\n",
    "semantic_text_splitter = AI21SemanticTextSplitter()\n",
    "\n",
    "result_document = []\n",
    "\n",
    "for doc in documents:\n",
    "    new_doc = semantic_text_splitter.split_documents(doc)\n",
    "    \n",
    "    for each_doc in new_doc:\n",
    "        result_document.append(each_doc)\n",
    "        \n",
    "result_document"
   ]
  },
  {
   "cell_type": "code",
   "execution_count": 7,
   "id": "24fc18ec",
   "metadata": {
    "ExecuteTime": {
     "end_time": "2024-04-18T04:25:10.733313Z",
     "start_time": "2024-04-18T04:25:10.722538Z"
    },
    "scrolled": true
   },
   "outputs": [
    {
     "data": {
      "text/plain": [
       "[Document(page_content='EDUCATIONHITESHSOLANKI\\nSOFTWARE ENGINEER\\nCONTACT\\n+91 9004713782\\nhiteshsolanki4623@gmail.com\\nB/710, Riddhi Siddhi apt,\\nMumbai, India\\nPortfolio\\nMUMBAIUNIVERSITY\\nDegree (Bsc) in Information\\nTechnology\\nGPA: 9.9 / 10.02022 - 2025\\n2021\\nEnglish (Fluent)\\nHindiLANGUAGESSKILLSPROFILE\\nResponsible and motivated student ready to apply education in the workplace.\\nOffers excellent technical abilities with software and applications, ability to\\nhandle challenging work, and excellent time management skills. Motivated\\nstudent seeking internship in Software Engineering to gain hands-on\\nexperience. Outgoing and friendly with strong drive to succeed.\\nMachine Learning And  Deep Learning\\nWeb ScrapingStrong understanding of machine learning concepts and algorithms,\\nincluding supervised learning, unsupervised learning, and reinforcement\\nlearning.\\nProficient in feature engineering, model evaluation, and hyperparameter\\ntuning techniques to optimize model performance.', metadata={'source': 'resume.pdf', 'page': 0}),\n",
       " Document(page_content='learning.\\nProficient in feature engineering, model evaluation, and hyperparameter\\ntuning techniques to optimize model performance.\\nExperienced in implementing machine learning algorithms using\\nTensorFlow, scikit-learn, and other libraries to solve real-world problems in\\ndomains such as natural language processing, computer vision, and\\nrecommendation systems.\\nExpertise in deep learning architectures such as convolutional neural\\nnetworks (CNNs), recurrent neural networks (RNNs), and deep\\nautoencoders.Skilled in advanced deep learning techniques like transfer\\nlearning, generative adversarial networks (GANs), and sequence-to-\\nsequence models.Experienced in applying deep learning to tasks like\\nimage classification, object detection, text generation, and time series\\nforecasting\\nComprehensive understanding of both frontend and backend\\ndevelopment technologies.\\nProficient in utilizing Redis as a caching layer to improve the performance\\nand scalability of web applications', metadata={'source': 'resume.pdf', 'page': 0}),\n",
       " Document(page_content='Comprehensive understanding of both frontend and backend\\ndevelopment technologies.\\nProficient in utilizing Redis as a caching layer to improve the performance\\nand scalability of web applications\\nExpertise in designing and developing RESTful and GraphQL APIs to\\nfacilitate seamless communication between frontend and backend\\nsystems.\\nProficient in building efficient and scalable web applications using Next.js,\\na popular React framework.Experienced in server-side rendering (SSR),\\nstatic site generation (SSG), and client-side rendering (CSR) with\\nNext.js.Skilled in optimizing Next.js applications for performance and SEO.\\nStrong proficiency in data modeling, querying, and database\\nadministrationProficient in web scraping techniques using libraries such as BeautifulSoup,\\nScrapy, or Selenium.\\nSkilled in extracting data from various sources on the web, including static\\nHTML pages, dynamic JavaScript-rendered content, and APIs.', metadata={'source': 'resume.pdf', 'page': 0}),\n",
       " Document(page_content='Scrapy, or Selenium.\\nSkilled in extracting data from various sources on the web, including static\\nHTML pages, dynamic JavaScript-rendered content, and APIs.\\nExperienced in parsing and processing scraped data into structured formats\\nlike CSV, JSON, or databases for further analysis or integration into machine\\nlearning pipelines.JAI HIND COLLEGE, MUMBAI\\nXII - Maharashtra Board  \\n82.33%\\nSETH JUGGULAL PODDAR\\nACADEMY, MUMBAI2019\\nX - ICSE 85%\\nFull Stack (Web and App) Development\\nPROJECTS\\nCodeTech : https://codetech-\\nnew.vercel.app\\nThread-clone: https://thread-\\ngamma.vercel.app/\\nAi-saas : https://ai-saas-ruby-\\ntheta.vercel.app/\\nWhite Board : https://miro-app-\\npsi.vercel.app/\\nE-commerce App:\\nhttps://github.com/Hitesh-\\ns0lanki/amazon-flutterLeetCodeGithubLinkedln\\nLanguages and tools\\nC, C++, Java, Python, Javascript, Web Assembly, Typescript, bash , R', metadata={'source': 'resume.pdf', 'page': 0}),\n",
       " Document(page_content='📞+91 9930032332 🖂  Nirajsolanki 729@gmail .com\\nMarch 2022 - Present\\n⮚\\n⮚\\n⮚\\n⮚\\n⮚\\n⮚\\n⮚\\n⮚\\n⮚\\nOther skills \\nattained ⮚\\n Committee \\nmember at SBR \\n& Co⮚\\nSports⮚\\nFinance / \\nAccounts⮚\\nPercentage Remarks\\n9.40 CGPI -\\n64.50% Scored 70+ in 2 subjects\\n72.75% Scored 80 in Acc.  and Exemption in all\\n64.00% Scored 85 in Acc.  and Exemption in 2\\n85.50% Scored 95+ in Accounts and Maths\\n77% Scored 90 in Maths Encouraged Article to participate actively on Taking session and share some key lesson for Overall learning and growth. \\n(Session taken by me on technical and fundamental analysis in equity market, and dicussion on audit observation came \\naccross during Audit )Niraj Solanki I Article Assistant \\nMumbai, Maharashtra \\nWork Experience \\nSBR & Co Chartered Accountants ( Mumbai )\\nExperiencePreparation of Actual Financials  Statement (Balance, P&L, Cash flow ) as  per applicable financial reporting framework,', metadata={'source': 'Niraj_Resumev .pdf', 'page': 0}),\n",
       " Document(page_content=\"Work Experience \\nSBR & Co Chartered Accountants ( Mumbai )\\nExperiencePreparation of Actual Financials  Statement (Balance, P&L, Cash flow ) as  per applicable financial reporting framework, \\nthat includes Profit and Loss reporting and financial reporting of 10+ private entity . Also prepared Provisional  and \\nProjected financials.\\nExecuted Internal Audit  and Statutory audit  of 15+  private companies, LLPs   and Insurance Companies ; Starting from \\ndeterming the Audit procedures to finalization including preparation of Auditor's Report along with CARO Reporting, \\nLimited Review, and Tax Audit .\\n Checking whether Financial statements are prepared in accordance  with the compliance of the respective IND AS . \\nPractical working experience on  IND AS 109, 115, 12, 2, 19.\\nAnalysed financial  statements , performed ratios  and variance analysis  to identify crucial relationships , Sales analysis\", metadata={'source': 'Niraj_Resumev .pdf', 'page': 0}),\n",
       " Document(page_content='Practical working experience on  IND AS 109, 115, 12, 2, 19.\\nAnalysed financial  statements , performed ratios  and variance analysis  to identify crucial relationships , Sales analysis \\nand projection , Dupont Analysis, confirm business understanding  and arrive at logical solution .\\nExperience of single handedly handling most of the Audit, Starting from Risk Assessment procedures , to applying \\nFurther Audit procedures, assessing/identifying the Risk of Material Misstatement and correcting the same  to the \\nfinalising the Audit.\\nAssisted  In Statutory Audit of SBI bank  Branch and Concurrent Audit of Federal bank , role played - Verification of the \\nloan files , Checking compliance with proper documentation before sanctioning of advances, Filing LFAR.\\nAssisted in framing Standard Operating Procedure  (SOPs) and Risk and Control Matrix  (RACM) to improve operational \\nefficiency and Controls.', metadata={'source': 'Niraj_Resumev .pdf', 'page': 0}),\n",
       " Document(page_content='Assisted in framing Standard Operating Procedure  (SOPs) and Risk and Control Matrix  (RACM) to improve operational \\nefficiency and Controls.\\nMiscellaneous assignments  - Due Diligence Of Private Company, Incorporation of Pvt Ltd. Co., Change in Constitution of \\nLLP, GST Reconciliation, TAN application, Maitainted Books of Accounts of LLP,  Application for LTDS including \\nnegotiation for the cash price. \\nTechnical, analytical and soft skills  (Microsoft Office Suite), Financial Analysis, Time Management, Multi-tasking, \\nInterpersonal Communication, Problem Solving, Critical Thinking, Client Handling and Business Knowledge, \\nLeadership, Learning new skills, Adaptable to new things.\\nExtra Curricular activities\\n2021 (Nov) CA Inter Group II ICAIWon First Prize in  Sudoku Solving  and Chess playing competition in School.\\nArea of Interest/ Work looking for\\nWorking in these area requires application and developing a skill set focused on analytical/critical thinking  and decision', metadata={'source': 'Niraj_Resumev .pdf', 'page': 0}),\n",
       " Document(page_content='Area of Interest/ Work looking for\\nWorking in these area requires application and developing a skill set focused on analytical/critical thinking  and decision \\nmaking skills,  which are the activites which interest me the most. By working in these area it  will allow me to \\ndemonstrate my proficiency in accounting, maths,  critical thinking, communication skills and  interest in Finance.\\nProfessional and Academic Qualification\\nYear Degree Institute/ CollegeFiling of 30+ TDS return on quarterly basis including rectification of the same, 40+ ITR returns, 5+ GST returns, 5+ GSTR \\n9 (annual return) of entities inlcuding MCA filings.\\n2019 HSC (Class XII - Comm) Thakur College of Science & comm\\n2017 SSC (Class X) Swami Vivek. High School2020 (Nov) CA Inter Group I ICAI\\n2019 (Nov) CA Foundation ICAI2022 (June) BCOM Mumbai University (Saraf Col.)', metadata={'source': 'Niraj_Resumev .pdf', 'page': 0}),\n",
       " Document(page_content='Phone: 9987259052About Me\\nEducationVighnesh Chejara\\nAim\\nSeeking a challenging position where\\nI can utilize my skills in research,\\ncritical thinking, and communication. \\nI am eager to contribute to a\\ndynamic team and further develop\\nmy expertise.\\nPassionate, motivated, and ready to\\nmake a positive impact.\\nMy Contact\\nSkills\\nMain AchievementsE-Mail:\\nVighnesh2464004@gmail.comGender: Male\\nDOB: 24/04/2004\\nDesignation: Student\\nCourse: Bsc.IT\\nYear: SY\\nCollege: Ghanshyamdas Saraf College, Malad(W)\\nSt. Xaviers High School, Borivali(East)10th(2020)\\nPercentage: 86%\\nGhanshyamdas Saraf College12th(2022)\\nPercentage: 89%\\nGhanshyamdas Saraf CollegeDegree\\nSem -1 Sem -2 Sem -3\\nCGPA-9.8 CGPA-9.9 CGPA-9.9\\nEssay writing(3rd Place)- 12/08/2015\\nQuiz Competition(3rd Place)- 15/02/17\\nBest Student- 03/04/2018\\nBest Composer- 15/08/2018\\nElocution Competition(1st Prize)- 15/08/2018\\nWorld Scholar’s Cup(Gold Medal)- 31/08/2019\\n2nd Rank From Sem-1 to Sem-3.\\nWinner of Inter-Collegiate Aavishkar', metadata={'source': 'VighneshChejara.pdf', 'page': 0}),\n",
       " Document(page_content='Best Composer- 15/08/2018\\nElocution Competition(1st Prize)- 15/08/2018\\nWorld Scholar’s Cup(Gold Medal)- 31/08/2019\\n2nd Rank From Sem-1 to Sem-3.\\nWinner of Inter-Collegiate Aavishkar\\nCompetition held by Mumbai University- 90% 75% 60% 60%\\n88% 86% 81% 87%\\n83% 84% 88% 73%C C++ Python Java\\nHTML5\\nSQLCSS\\nMySQLJavascriptPHP\\nC# VB\\n96% 90%Canva CapCut\\nHobbies\\nExploring Creativity\\nMusic\\nReading Books\\nCricketDeclaration\\nI do hereby declare that the above statements mentioned in my\\nresume are true and correct to the best of my knowledge and\\nbelief.', metadata={'source': 'VighneshChejara.pdf', 'page': 0})]"
      ]
     },
     "execution_count": 7,
     "metadata": {},
     "output_type": "execute_result"
    }
   ],
   "source": [
    "from langchain.text_splitter import RecursiveCharacterTextSplitter\n",
    "text_splitter=RecursiveCharacterTextSplitter(chunk_size=1000,chunk_overlap=200)\n",
    "\n",
    "result_document = []\n",
    "\n",
    "for doc in documents:\n",
    "    new_doc = text_splitter.split_documents(doc)\n",
    "    \n",
    "    for each_doc in new_doc:\n",
    "        result_document.append(each_doc)\n",
    "        \n",
    "result_document"
   ]
  },
  {
   "cell_type": "code",
   "execution_count": 28,
   "id": "82bc6528",
   "metadata": {
    "ExecuteTime": {
     "end_time": "2024-04-18T04:41:52.395719Z",
     "start_time": "2024-04-18T04:41:50.297453Z"
    }
   },
   "outputs": [],
   "source": [
    "from langchain_community.embeddings import OpenAIEmbeddings\n",
    "from langchain_community.vectorstores import FAISS\n",
    "\n",
    "# db = FAISS.from_documents(result_document, OpenAIEmbeddings())\n",
    "db = FAISS.from_documents(result_document, OpenAIEmbeddings())"
   ]
  },
  {
   "cell_type": "code",
   "execution_count": 5,
   "id": "435e4d01",
   "metadata": {
    "ExecuteTime": {
     "end_time": "2024-04-17T12:17:29.731157Z",
     "start_time": "2024-04-17T12:17:16.199195Z"
    }
   },
   "outputs": [],
   "source": [
    "# using Ollama \n",
    "from langchain_community.embeddings import OllamaEmbeddings\n",
    "from langchain_community.vectorstores import FAISS\n",
    "\n",
    "dbO = FAISS.from_documents(documents, OllamaEmbeddings())"
   ]
  },
  {
   "cell_type": "code",
   "execution_count": 6,
   "id": "ae1a7236",
   "metadata": {
    "ExecuteTime": {
     "end_time": "2024-04-17T12:17:34.477812Z",
     "start_time": "2024-04-17T12:17:34.301655Z"
    }
   },
   "outputs": [
    {
     "data": {
      "text/plain": [
       "Ollama()"
      ]
     },
     "execution_count": 6,
     "metadata": {},
     "output_type": "execute_result"
    }
   ],
   "source": [
    "from langchain_community.llms import Ollama\n",
    "## Load Ollama LAMA2 LLM model\n",
    "llm=Ollama(model=\"llama2\")\n",
    "llm"
   ]
  },
  {
   "cell_type": "code",
   "execution_count": 12,
   "id": "cb2fd309",
   "metadata": {
    "ExecuteTime": {
     "end_time": "2024-04-18T04:28:27.297045Z",
     "start_time": "2024-04-18T04:28:26.792005Z"
    }
   },
   "outputs": [
    {
     "data": {
      "text/plain": [
       "ChatOpenAI(client=<openai.resources.chat.completions.Completions object at 0x0000014F81377ED0>, async_client=<openai.resources.chat.completions.AsyncCompletions object at 0x0000014F8138F110>, openai_api_key=SecretStr('**********'), openai_proxy='')"
      ]
     },
     "execution_count": 12,
     "metadata": {},
     "output_type": "execute_result"
    }
   ],
   "source": [
    "from langchain_openai import ChatOpenAI\n",
    "\n",
    "model = ChatOpenAI(model = \"gpt-3.5-turbo\")\n",
    "model"
   ]
  },
  {
   "cell_type": "code",
   "execution_count": 13,
   "id": "a04dbd3d",
   "metadata": {
    "ExecuteTime": {
     "end_time": "2024-04-18T04:28:33.520007Z",
     "start_time": "2024-04-18T04:28:33.441918Z"
    }
   },
   "outputs": [],
   "source": [
    "## Design ChatPrompt Template\n",
    "from langchain_core.prompts import ChatPromptTemplate\n",
    "prompt = ChatPromptTemplate.from_template(\"\"\"\n",
    "Answer the following question based only on the provided context. \n",
    "Think step by step before providing a detailed answer. \n",
    "I will tip you $1000 if the user finds the answer helpful. \n",
    "<context>\n",
    "{context}\n",
    "</context>\n",
    "Question: {input}\"\"\")"
   ]
  },
  {
   "cell_type": "code",
   "execution_count": 29,
   "id": "baae8723",
   "metadata": {
    "ExecuteTime": {
     "end_time": "2024-04-18T04:42:25.939476Z",
     "start_time": "2024-04-18T04:42:25.932693Z"
    }
   },
   "outputs": [],
   "source": [
    "## Chain Introduction\n",
    "## Create Stuff Docment Chain\n",
    "\n",
    "from langchain.chains.combine_documents import create_stuff_documents_chain\n",
    "\n",
    "document_chain = create_stuff_documents_chain(model,prompt)"
   ]
  },
  {
   "cell_type": "code",
   "execution_count": 30,
   "id": "99e08a40",
   "metadata": {
    "ExecuteTime": {
     "end_time": "2024-04-18T04:42:29.797103Z",
     "start_time": "2024-04-18T04:42:29.789776Z"
    }
   },
   "outputs": [
    {
     "data": {
      "text/plain": [
       "VectorStoreRetriever(tags=['FAISS', 'OpenAIEmbeddings'], vectorstore=<langchain_community.vectorstores.faiss.FAISS object at 0x0000014F274C7710>)"
      ]
     },
     "execution_count": 30,
     "metadata": {},
     "output_type": "execute_result"
    }
   ],
   "source": [
    "retriever = db.as_retriever()\n",
    "retriever"
   ]
  },
  {
   "cell_type": "code",
   "execution_count": 31,
   "id": "6c8def26",
   "metadata": {
    "ExecuteTime": {
     "end_time": "2024-04-18T04:42:33.173641Z",
     "start_time": "2024-04-18T04:42:33.166985Z"
    }
   },
   "outputs": [],
   "source": [
    "from langchain.chains import create_retrieval_chain\n",
    "retrieval_chain = create_retrieval_chain(retriever, document_chain)"
   ]
  },
  {
   "cell_type": "code",
   "execution_count": 32,
   "id": "f5e7683c",
   "metadata": {
    "ExecuteTime": {
     "end_time": "2024-04-18T04:42:42.710411Z",
     "start_time": "2024-04-18T04:42:37.305103Z"
    }
   },
   "outputs": [],
   "source": [
    "response = retrieval_chain.invoke({\"input\":\"Provide the breif info of each candidate present?\"})"
   ]
  },
  {
   "cell_type": "code",
   "execution_count": 33,
   "id": "8a4d8826",
   "metadata": {
    "ExecuteTime": {
     "end_time": "2024-04-18T04:42:44.569084Z",
     "start_time": "2024-04-18T04:42:44.558307Z"
    }
   },
   "outputs": [
    {
     "data": {
      "text/plain": [
       "'Candidate 1:\\nName: Vighnesh Chejara\\nGender: Male\\nDOB: 24/04/2004\\nContact: Vighnesh2464004@gmail.com, Phone: 9987259052\\nDesignation: Student\\nCourse: Bsc. in Information Technology\\nSkills: Python, Java, HTML5, SQL, CSS, MySQL, Javascript, PHP, C#, VB, Canva, CapCut\\nHobbies: Exploring Creativity, Music, Reading Books, Cricket\\nAchievements: GPA of 9.9 out of 10 at Mumbai University\\nLanguages: English (Fluent), Hindi\\n\\nCandidate 2:\\nName: Hitesh Solanki\\nContact: +91 9004713782, hiteshsolanki4623@gmail.com\\nAddress: B/710, Riddhi Siddhi apt, Mumbai, India\\nDesignation: Software Engineer\\nPortfolio: Mumbai University\\nDegree: Bsc. in Information Technology\\nYears: 2022 - 2025\\nLanguages: English (Fluent), Hindi\\nSkills: Responsible and motivated student ready to apply education in the workplace'"
      ]
     },
     "execution_count": 33,
     "metadata": {},
     "output_type": "execute_result"
    }
   ],
   "source": [
    "response['answer']"
   ]
  },
  {
   "cell_type": "code",
   "execution_count": null,
   "id": "f67d01c2",
   "metadata": {},
   "outputs": [],
   "source": []
  }
 ],
 "metadata": {
  "kernelspec": {
   "display_name": "Python 3 (ipykernel)",
   "language": "python",
   "name": "python3"
  },
  "language_info": {
   "codemirror_mode": {
    "name": "ipython",
    "version": 3
   },
   "file_extension": ".py",
   "mimetype": "text/x-python",
   "name": "python",
   "nbconvert_exporter": "python",
   "pygments_lexer": "ipython3",
   "version": "3.11.5"
  },
  "varInspector": {
   "cols": {
    "lenName": 16,
    "lenType": 16,
    "lenVar": 40
   },
   "kernels_config": {
    "python": {
     "delete_cmd_postfix": "",
     "delete_cmd_prefix": "del ",
     "library": "var_list.py",
     "varRefreshCmd": "print(var_dic_list())"
    },
    "r": {
     "delete_cmd_postfix": ") ",
     "delete_cmd_prefix": "rm(",
     "library": "var_list.r",
     "varRefreshCmd": "cat(var_dic_list()) "
    }
   },
   "types_to_exclude": [
    "module",
    "function",
    "builtin_function_or_method",
    "instance",
    "_Feature"
   ],
   "window_display": false
  }
 },
 "nbformat": 4,
 "nbformat_minor": 5
}

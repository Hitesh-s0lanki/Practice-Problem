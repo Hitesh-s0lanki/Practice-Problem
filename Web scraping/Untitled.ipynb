{
 "cells": [
  {
   "cell_type": "markdown",
   "id": "69ab277d",
   "metadata": {},
   "source": [
    "Problem Statement Difficulty: MODERATE\n",
    "\n",
    "Problem Statement: LinkedIn Sentiment Analysis of any LinkedIn Page or Post \n",
    "\n",
    "Problem Statement Description: Problem Description: Your task is to develop an AI system capable of performing sentiment analysis on the posts and comments of any given LinkedIn page or post. The system should be able to analyze the text of the posts and comments, categorize them as positive, negative, or neutral, and provide an overall sentiment distribution.\n",
    "Input: Posts and comments from a specific LinkedIn page or post. The system should be designed to handle a large volume of text and diverse language use, including professional jargon, abbreviations, and emojis.\n",
    "\n",
    "Output: Percentage distribution of positive, negative, and neutral sentiments among the analyzed posts and comments. The system should provide a clear breakdown of the sentiment distribution, offering insights into the overall sentiment associated with the given LinkedIn page or post.\n",
    "\n",
    "Rules: Participants can use existing sentiment analysis algorithms to develop the system. However, they should justify their choice of algorithms and explain how these contribute to the effectiveness of the system. They should demonstrate the system's ability to accurately analyze sentiment in a wide variety of LinkedIn posts and comments."
   ]
  },
  {
   "cell_type": "code",
   "execution_count": null,
   "id": "58d47ff3",
   "metadata": {},
   "outputs": [],
   "source": []
  },
  {
   "cell_type": "code",
   "execution_count": null,
   "id": "69ddaccb",
   "metadata": {},
   "outputs": [],
   "source": []
  },
  {
   "cell_type": "code",
   "execution_count": null,
   "id": "8b0ad9be",
   "metadata": {},
   "outputs": [],
   "source": []
  },
  {
   "cell_type": "code",
   "execution_count": null,
   "id": "f410c498",
   "metadata": {},
   "outputs": [],
   "source": []
  },
  {
   "cell_type": "code",
   "execution_count": null,
   "id": "507118e8",
   "metadata": {},
   "outputs": [],
   "source": []
  }
 ],
 "metadata": {
  "kernelspec": {
   "display_name": "Python 3 (ipykernel)",
   "language": "python",
   "name": "python3"
  },
  "language_info": {
   "codemirror_mode": {
    "name": "ipython",
    "version": 3
   },
   "file_extension": ".py",
   "mimetype": "text/x-python",
   "name": "python",
   "nbconvert_exporter": "python",
   "pygments_lexer": "ipython3",
   "version": "3.11.5"
  },
  "varInspector": {
   "cols": {
    "lenName": 16,
    "lenType": 16,
    "lenVar": 40
   },
   "kernels_config": {
    "python": {
     "delete_cmd_postfix": "",
     "delete_cmd_prefix": "del ",
     "library": "var_list.py",
     "varRefreshCmd": "print(var_dic_list())"
    },
    "r": {
     "delete_cmd_postfix": ") ",
     "delete_cmd_prefix": "rm(",
     "library": "var_list.r",
     "varRefreshCmd": "cat(var_dic_list()) "
    }
   },
   "types_to_exclude": [
    "module",
    "function",
    "builtin_function_or_method",
    "instance",
    "_Feature"
   ],
   "window_display": false
  }
 },
 "nbformat": 4,
 "nbformat_minor": 5
}
